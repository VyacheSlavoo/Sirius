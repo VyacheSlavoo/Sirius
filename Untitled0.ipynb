{
 "nbformat": 4,
 "nbformat_minor": 0,
 "metadata": {
  "colab": {
   "provenance": []
  },
  "kernelspec": {
   "name": "python3",
   "language": "python",
   "display_name": "Python 3 (ipykernel)"
  },
  "language_info": {
   "name": "python"
  }
 },
 "cells": [
  {
   "cell_type": "code",
   "execution_count": 29,
   "metadata": {
    "colab": {
     "base_uri": "https://localhost:8080/"
    },
    "id": "g6L33xbOv4uA",
    "outputId": "a8860244-8caf-46af-8579-3b088db8e09e",
    "ExecuteTime": {
     "end_time": "2023-11-15T18:29:07.512097Z",
     "start_time": "2023-11-15T18:27:49.518706Z"
    }
   },
   "outputs": [
    {
     "name": "stdout",
     "output_type": "stream",
     "text": [
      "Collecting pandas\r\n",
      "  Downloading pandas-2.1.3-cp39-cp39-macosx_10_9_x86_64.whl (11.8 MB)\r\n",
      "\u001B[2K     \u001B[90m━━━━━━━━━━━━━━━━━━━━━━━━━━━━━━━━━━━━━━━━\u001B[0m \u001B[32m11.8/11.8 MB\u001B[0m \u001B[31m1.8 MB/s\u001B[0m eta \u001B[36m0:00:00\u001B[0m00:01\u001B[0m00:01\u001B[0m\r\n",
      "\u001B[?25hRequirement already satisfied: python-dateutil>=2.8.2 in ./venv/lib/python3.9/site-packages (from pandas) (2.8.2)\r\n",
      "Collecting numpy<2,>=1.22.4\r\n",
      "  Downloading numpy-1.26.2-cp39-cp39-macosx_10_9_x86_64.whl (20.6 MB)\r\n",
      "\u001B[2K     \u001B[90m━━━━━━━━━━━━━━━━━━━━━━━━━━━━━━━━━━━━━━━━\u001B[0m \u001B[32m20.6/20.6 MB\u001B[0m \u001B[31m1.1 MB/s\u001B[0m eta \u001B[36m0:00:00\u001B[0m00:01\u001B[0m00:01\u001B[0mm\r\n",
      "\u001B[?25hCollecting pytz>=2020.1\r\n",
      "  Using cached pytz-2023.3.post1-py2.py3-none-any.whl (502 kB)\r\n",
      "Collecting tzdata>=2022.1\r\n",
      "  Using cached tzdata-2023.3-py2.py3-none-any.whl (341 kB)\r\n",
      "Requirement already satisfied: six>=1.5 in ./venv/lib/python3.9/site-packages (from python-dateutil>=2.8.2->pandas) (1.16.0)\r\n",
      "Installing collected packages: pytz, tzdata, numpy, pandas\r\n",
      "Successfully installed numpy-1.26.2 pandas-2.1.3 pytz-2023.3.post1 tzdata-2023.3\r\n",
      "\r\n",
      "\u001B[1m[\u001B[0m\u001B[34;49mnotice\u001B[0m\u001B[1;39;49m]\u001B[0m\u001B[39;49m A new release of pip available: \u001B[0m\u001B[31;49m22.3.1\u001B[0m\u001B[39;49m -> \u001B[0m\u001B[32;49m23.3.1\u001B[0m\r\n",
      "\u001B[1m[\u001B[0m\u001B[34;49mnotice\u001B[0m\u001B[1;39;49m]\u001B[0m\u001B[39;49m To update, run: \u001B[0m\u001B[32;49mpip install --upgrade pip\u001B[0m\r\n",
      "Collecting seaborn\r\n",
      "  Using cached seaborn-0.13.0-py3-none-any.whl (294 kB)\r\n",
      "Requirement already satisfied: pandas>=1.2 in ./venv/lib/python3.9/site-packages (from seaborn) (2.1.3)\r\n",
      "Collecting matplotlib!=3.6.1,>=3.3\r\n",
      "  Downloading matplotlib-3.8.1-cp39-cp39-macosx_10_12_x86_64.whl (7.6 MB)\r\n",
      "\u001B[2K     \u001B[90m━━━━━━━━━━━━━━━━━━━━━━━━━━━━━━━━━━━━━━━━\u001B[0m \u001B[32m7.6/7.6 MB\u001B[0m \u001B[31m2.5 MB/s\u001B[0m eta \u001B[36m0:00:00\u001B[0m00:01\u001B[0m00:01\u001B[0m0m\r\n",
      "\u001B[?25hRequirement already satisfied: numpy!=1.24.0,>=1.20 in ./venv/lib/python3.9/site-packages (from seaborn) (1.26.2)\r\n",
      "Collecting fonttools>=4.22.0\r\n",
      "  Downloading fonttools-4.44.3-cp39-cp39-macosx_10_9_x86_64.whl (2.3 MB)\r\n",
      "\u001B[2K     \u001B[90m━━━━━━━━━━━━━━━━━━━━━━━━━━━━━━━━━━━━━━━━\u001B[0m \u001B[32m2.3/2.3 MB\u001B[0m \u001B[31m2.9 MB/s\u001B[0m eta \u001B[36m0:00:00\u001B[0m00:01\u001B[0m00:01\u001B[0m\r\n",
      "\u001B[?25hRequirement already satisfied: python-dateutil>=2.7 in ./venv/lib/python3.9/site-packages (from matplotlib!=3.6.1,>=3.3->seaborn) (2.8.2)\r\n",
      "Requirement already satisfied: packaging>=20.0 in ./venv/lib/python3.9/site-packages (from matplotlib!=3.6.1,>=3.3->seaborn) (23.2)\r\n",
      "Collecting cycler>=0.10\r\n",
      "  Using cached cycler-0.12.1-py3-none-any.whl (8.3 kB)\r\n",
      "Collecting contourpy>=1.0.1\r\n",
      "  Downloading contourpy-1.2.0-cp39-cp39-macosx_10_9_x86_64.whl (257 kB)\r\n",
      "\u001B[2K     \u001B[90m━━━━━━━━━━━━━━━━━━━━━━━━━━━━━━━━━━━━━━━\u001B[0m \u001B[32m257.1/257.1 kB\u001B[0m \u001B[31m4.8 MB/s\u001B[0m eta \u001B[36m0:00:00\u001B[0ma \u001B[36m0:00:01\u001B[0m\r\n",
      "\u001B[?25hCollecting importlib-resources>=3.2.0\r\n",
      "  Downloading importlib_resources-6.1.1-py3-none-any.whl (33 kB)\r\n",
      "Collecting pillow>=8\r\n",
      "  Downloading Pillow-10.1.0-cp39-cp39-macosx_10_10_x86_64.whl (3.5 MB)\r\n",
      "\u001B[2K     \u001B[90m━━━━━━━━━━━━━━━━━━━━━━━━━━━━━━━━━━━━━━━━\u001B[0m \u001B[32m3.5/3.5 MB\u001B[0m \u001B[31m2.9 MB/s\u001B[0m eta \u001B[36m0:00:00\u001B[0m00:01\u001B[0m00:01\u001B[0m\r\n",
      "\u001B[?25hCollecting pyparsing>=2.3.1\r\n",
      "  Using cached pyparsing-3.1.1-py3-none-any.whl (103 kB)\r\n",
      "Collecting kiwisolver>=1.3.1\r\n",
      "  Downloading kiwisolver-1.4.5-cp39-cp39-macosx_10_9_x86_64.whl (68 kB)\r\n",
      "\u001B[2K     \u001B[90m━━━━━━━━━━━━━━━━━━━━━━━━━━━━━━━━━━━━━━━━\u001B[0m \u001B[32m68.1/68.1 kB\u001B[0m \u001B[31m2.1 MB/s\u001B[0m eta \u001B[36m0:00:00\u001B[0m\r\n",
      "\u001B[?25hRequirement already satisfied: tzdata>=2022.1 in ./venv/lib/python3.9/site-packages (from pandas>=1.2->seaborn) (2023.3)\r\n",
      "Requirement already satisfied: pytz>=2020.1 in ./venv/lib/python3.9/site-packages (from pandas>=1.2->seaborn) (2023.3.post1)\r\n",
      "Requirement already satisfied: zipp>=3.1.0 in ./venv/lib/python3.9/site-packages (from importlib-resources>=3.2.0->matplotlib!=3.6.1,>=3.3->seaborn) (3.17.0)\r\n",
      "Requirement already satisfied: six>=1.5 in ./venv/lib/python3.9/site-packages (from python-dateutil>=2.7->matplotlib!=3.6.1,>=3.3->seaborn) (1.16.0)\r\n",
      "Installing collected packages: pyparsing, pillow, kiwisolver, importlib-resources, fonttools, cycler, contourpy, matplotlib, seaborn\r\n",
      "Successfully installed contourpy-1.2.0 cycler-0.12.1 fonttools-4.44.3 importlib-resources-6.1.1 kiwisolver-1.4.5 matplotlib-3.8.1 pillow-10.1.0 pyparsing-3.1.1 seaborn-0.13.0\r\n",
      "\r\n",
      "\u001B[1m[\u001B[0m\u001B[34;49mnotice\u001B[0m\u001B[1;39;49m]\u001B[0m\u001B[39;49m A new release of pip available: \u001B[0m\u001B[31;49m22.3.1\u001B[0m\u001B[39;49m -> \u001B[0m\u001B[32;49m23.3.1\u001B[0m\r\n",
      "\u001B[1m[\u001B[0m\u001B[34;49mnotice\u001B[0m\u001B[1;39;49m]\u001B[0m\u001B[39;49m To update, run: \u001B[0m\u001B[32;49mpip install --upgrade pip\u001B[0m\r\n",
      "Collecting nltk\r\n",
      "  Using cached nltk-3.8.1-py3-none-any.whl (1.5 MB)\r\n",
      "Collecting click\r\n",
      "  Using cached click-8.1.7-py3-none-any.whl (97 kB)\r\n",
      "Collecting tqdm\r\n",
      "  Using cached tqdm-4.66.1-py3-none-any.whl (78 kB)\r\n",
      "Collecting regex>=2021.8.3\r\n",
      "  Downloading regex-2023.10.3-cp39-cp39-macosx_10_9_x86_64.whl (296 kB)\r\n",
      "\u001B[2K     \u001B[90m━━━━━━━━━━━━━━━━━━━━━━━━━━━━━━━━━━━━━\u001B[0m \u001B[32m296.4/296.4 kB\u001B[0m \u001B[31m710.3 kB/s\u001B[0m eta \u001B[36m0:00:00\u001B[0ma \u001B[36m0:00:01\u001B[0m\r\n",
      "\u001B[?25hCollecting joblib\r\n",
      "  Using cached joblib-1.3.2-py3-none-any.whl (302 kB)\r\n",
      "Installing collected packages: tqdm, regex, joblib, click, nltk\r\n",
      "Successfully installed click-8.1.7 joblib-1.3.2 nltk-3.8.1 regex-2023.10.3 tqdm-4.66.1\r\n",
      "\r\n",
      "\u001B[1m[\u001B[0m\u001B[34;49mnotice\u001B[0m\u001B[1;39;49m]\u001B[0m\u001B[39;49m A new release of pip available: \u001B[0m\u001B[31;49m22.3.1\u001B[0m\u001B[39;49m -> \u001B[0m\u001B[32;49m23.3.1\u001B[0m\r\n",
      "\u001B[1m[\u001B[0m\u001B[34;49mnotice\u001B[0m\u001B[1;39;49m]\u001B[0m\u001B[39;49m To update, run: \u001B[0m\u001B[32;49mpip install --upgrade pip\u001B[0m\r\n",
      "Collecting stop-words\r\n",
      "  Using cached stop-words-2018.7.23.tar.gz (31 kB)\r\n",
      "  Preparing metadata (setup.py) ... \u001B[?25ldone\r\n",
      "\u001B[?25hBuilding wheels for collected packages: stop-words\r\n",
      "  Building wheel for stop-words (setup.py) ... \u001B[?25ldone\r\n",
      "\u001B[?25h  Created wheel for stop-words: filename=stop_words-2018.7.23-py3-none-any.whl size=32895 sha256=0da8f3d523433151055e42557169ac7cf31333b7533268d64ece928c768be900\r\n",
      "  Stored in directory: /Users/chertan/Library/Caches/pip/wheels/86/a8/b9/c157f4621885af6f121e3a055cd86b77f30f2443f5291f897c\r\n",
      "Successfully built stop-words\r\n",
      "Installing collected packages: stop-words\r\n",
      "Successfully installed stop-words-2018.7.23\r\n",
      "\r\n",
      "\u001B[1m[\u001B[0m\u001B[34;49mnotice\u001B[0m\u001B[1;39;49m]\u001B[0m\u001B[39;49m A new release of pip available: \u001B[0m\u001B[31;49m22.3.1\u001B[0m\u001B[39;49m -> \u001B[0m\u001B[32;49m23.3.1\u001B[0m\r\n",
      "\u001B[1m[\u001B[0m\u001B[34;49mnotice\u001B[0m\u001B[1;39;49m]\u001B[0m\u001B[39;49m To update, run: \u001B[0m\u001B[32;49mpip install --upgrade pip\u001B[0m\r\n",
      "Collecting spacy\r\n",
      "  Downloading spacy-3.7.2-cp39-cp39-macosx_10_9_x86_64.whl (6.9 MB)\r\n",
      "\u001B[2K     \u001B[90m━━━━━━━━━━━━━━━━━━━━━━━━━━━━━━━━━━━━━━━━\u001B[0m \u001B[32m6.9/6.9 MB\u001B[0m \u001B[31m1.6 MB/s\u001B[0m eta \u001B[36m0:00:00\u001B[0m00:01\u001B[0m00:01\u001B[0m0m\r\n",
      "\u001B[?25hCollecting wasabi<1.2.0,>=0.9.1\r\n",
      "  Using cached wasabi-1.1.2-py3-none-any.whl (27 kB)\r\n",
      "Requirement already satisfied: requests<3.0.0,>=2.13.0 in ./venv/lib/python3.9/site-packages (from spacy) (2.31.0)\r\n",
      "Collecting pydantic!=1.8,!=1.8.1,<3.0.0,>=1.7.4\r\n",
      "  Using cached pydantic-2.5.1-py3-none-any.whl (381 kB)\r\n",
      "Collecting langcodes<4.0.0,>=3.2.0\r\n",
      "  Using cached langcodes-3.3.0-py3-none-any.whl (181 kB)\r\n",
      "Collecting catalogue<2.1.0,>=2.0.6\r\n",
      "  Using cached catalogue-2.0.10-py3-none-any.whl (17 kB)\r\n",
      "Collecting srsly<3.0.0,>=2.4.3\r\n",
      "  Downloading srsly-2.4.8-cp39-cp39-macosx_10_9_x86_64.whl (493 kB)\r\n",
      "\u001B[2K     \u001B[90m━━━━━━━━━━━━━━━━━━━━━━━━━━━━━━━━━━━━━━━\u001B[0m \u001B[32m493.1/493.1 kB\u001B[0m \u001B[31m2.0 MB/s\u001B[0m eta \u001B[36m0:00:00\u001B[0m00:01\u001B[0m00:01\u001B[0m\r\n",
      "\u001B[?25hCollecting spacy-legacy<3.1.0,>=3.0.11\r\n",
      "  Using cached spacy_legacy-3.0.12-py2.py3-none-any.whl (29 kB)\r\n",
      "Collecting thinc<8.3.0,>=8.1.8\r\n",
      "  Downloading thinc-8.2.1-cp39-cp39-macosx_10_9_x86_64.whl (876 kB)\r\n",
      "\u001B[2K     \u001B[90m━━━━━━━━━━━━━━━━━━━━━━━━━━━━━━━━━━━━━━━\u001B[0m \u001B[32m876.4/876.4 kB\u001B[0m \u001B[31m1.9 MB/s\u001B[0m eta \u001B[36m0:00:00\u001B[0ma \u001B[36m0:00:01\u001B[0m\r\n",
      "\u001B[?25hCollecting smart-open<7.0.0,>=5.2.1\r\n",
      "  Using cached smart_open-6.4.0-py3-none-any.whl (57 kB)\r\n",
      "Collecting preshed<3.1.0,>=3.0.2\r\n",
      "  Downloading preshed-3.0.9-cp39-cp39-macosx_10_9_x86_64.whl (133 kB)\r\n",
      "\u001B[2K     \u001B[90m━━━━━━━━━━━━━━━━━━━━━━━━━━━━━━━━━━━━━━━\u001B[0m \u001B[32m133.5/133.5 kB\u001B[0m \u001B[31m2.5 MB/s\u001B[0m eta \u001B[36m0:00:00\u001B[0ma \u001B[36m0:00:01\u001B[0m\r\n",
      "\u001B[?25hCollecting murmurhash<1.1.0,>=0.28.0\r\n",
      "  Downloading murmurhash-1.0.10-cp39-cp39-macosx_10_9_x86_64.whl (26 kB)\r\n",
      "Requirement already satisfied: packaging>=20.0 in ./venv/lib/python3.9/site-packages (from spacy) (23.2)\r\n",
      "Collecting spacy-loggers<2.0.0,>=1.0.0\r\n",
      "  Using cached spacy_loggers-1.0.5-py3-none-any.whl (22 kB)\r\n",
      "Collecting weasel<0.4.0,>=0.1.0\r\n",
      "  Using cached weasel-0.3.4-py3-none-any.whl (50 kB)\r\n",
      "Collecting typer<0.10.0,>=0.3.0\r\n",
      "  Using cached typer-0.9.0-py3-none-any.whl (45 kB)\r\n",
      "Requirement already satisfied: tqdm<5.0.0,>=4.38.0 in ./venv/lib/python3.9/site-packages (from spacy) (4.66.1)\r\n",
      "Requirement already satisfied: setuptools in ./venv/lib/python3.9/site-packages (from spacy) (65.5.1)\r\n",
      "Collecting cymem<2.1.0,>=2.0.2\r\n",
      "  Downloading cymem-2.0.8-cp39-cp39-macosx_10_9_x86_64.whl (42 kB)\r\n",
      "\u001B[2K     \u001B[90m━━━━━━━━━━━━━━━━━━━━━━━━━━━━━━━━━━━━━━━━\u001B[0m \u001B[32m42.1/42.1 kB\u001B[0m \u001B[31m2.9 MB/s\u001B[0m eta \u001B[36m0:00:00\u001B[0m\r\n",
      "\u001B[?25hRequirement already satisfied: numpy>=1.19.0 in ./venv/lib/python3.9/site-packages (from spacy) (1.26.2)\r\n",
      "Requirement already satisfied: jinja2 in ./venv/lib/python3.9/site-packages (from spacy) (3.1.2)\r\n",
      "Requirement already satisfied: typing-extensions>=4.6.1 in ./venv/lib/python3.9/site-packages (from pydantic!=1.8,!=1.8.1,<3.0.0,>=1.7.4->spacy) (4.8.0)\r\n",
      "Collecting pydantic-core==2.14.3\r\n",
      "  Downloading pydantic_core-2.14.3-cp39-cp39-macosx_10_7_x86_64.whl (1.9 MB)\r\n",
      "\u001B[2K     \u001B[90m━━━━━━━━━━━━━━━━━━━━━━━━━━━━━━━━━━━━━━━━\u001B[0m \u001B[32m1.9/1.9 MB\u001B[0m \u001B[31m2.1 MB/s\u001B[0m eta \u001B[36m0:00:00\u001B[0m00:01\u001B[0m00:01\u001B[0m\r\n",
      "\u001B[?25hCollecting annotated-types>=0.4.0\r\n",
      "  Using cached annotated_types-0.6.0-py3-none-any.whl (12 kB)\r\n",
      "Requirement already satisfied: certifi>=2017.4.17 in ./venv/lib/python3.9/site-packages (from requests<3.0.0,>=2.13.0->spacy) (2023.7.22)\r\n",
      "Requirement already satisfied: charset-normalizer<4,>=2 in ./venv/lib/python3.9/site-packages (from requests<3.0.0,>=2.13.0->spacy) (3.3.2)\r\n",
      "Requirement already satisfied: idna<4,>=2.5 in ./venv/lib/python3.9/site-packages (from requests<3.0.0,>=2.13.0->spacy) (3.4)\r\n",
      "Requirement already satisfied: urllib3<3,>=1.21.1 in ./venv/lib/python3.9/site-packages (from requests<3.0.0,>=2.13.0->spacy) (2.1.0)\r\n",
      "Collecting blis<0.8.0,>=0.7.8\r\n",
      "  Downloading blis-0.7.11-cp39-cp39-macosx_10_9_x86_64.whl (6.1 MB)\r\n",
      "\u001B[2K     \u001B[90m━━━━━━━━━━━━━━━━━━━━━━━━━━━━━━━━━━━━━━━━\u001B[0m \u001B[32m6.1/6.1 MB\u001B[0m \u001B[31m2.0 MB/s\u001B[0m eta \u001B[36m0:00:00\u001B[0m00:01\u001B[0m00:01\u001B[0m\r\n",
      "\u001B[?25hCollecting confection<1.0.0,>=0.0.1\r\n",
      "  Using cached confection-0.1.3-py3-none-any.whl (34 kB)\r\n",
      "Requirement already satisfied: click<9.0.0,>=7.1.1 in ./venv/lib/python3.9/site-packages (from typer<0.10.0,>=0.3.0->spacy) (8.1.7)\r\n",
      "Collecting cloudpathlib<0.17.0,>=0.7.0\r\n",
      "  Using cached cloudpathlib-0.16.0-py3-none-any.whl (45 kB)\r\n",
      "Requirement already satisfied: MarkupSafe>=2.0 in ./venv/lib/python3.9/site-packages (from jinja2->spacy) (2.1.3)\r\n",
      "Installing collected packages: cymem, wasabi, typer, spacy-loggers, spacy-legacy, smart-open, pydantic-core, murmurhash, langcodes, cloudpathlib, catalogue, blis, annotated-types, srsly, pydantic, preshed, confection, weasel, thinc, spacy\r\n",
      "Successfully installed annotated-types-0.6.0 blis-0.7.11 catalogue-2.0.10 cloudpathlib-0.16.0 confection-0.1.3 cymem-2.0.8 langcodes-3.3.0 murmurhash-1.0.10 preshed-3.0.9 pydantic-2.5.1 pydantic-core-2.14.3 smart-open-6.4.0 spacy-3.7.2 spacy-legacy-3.0.12 spacy-loggers-1.0.5 srsly-2.4.8 thinc-8.2.1 typer-0.9.0 wasabi-1.1.2 weasel-0.3.4\r\n",
      "\r\n",
      "\u001B[1m[\u001B[0m\u001B[34;49mnotice\u001B[0m\u001B[1;39;49m]\u001B[0m\u001B[39;49m A new release of pip available: \u001B[0m\u001B[31;49m22.3.1\u001B[0m\u001B[39;49m -> \u001B[0m\u001B[32;49m23.3.1\u001B[0m\r\n",
      "\u001B[1m[\u001B[0m\u001B[34;49mnotice\u001B[0m\u001B[1;39;49m]\u001B[0m\u001B[39;49m To update, run: \u001B[0m\u001B[32;49mpip install --upgrade pip\u001B[0m\r\n",
      "Collecting pymorphy2\r\n",
      "  Using cached pymorphy2-0.9.1-py3-none-any.whl (55 kB)\r\n",
      "Collecting pymorphy2-dicts-ru<3.0,>=2.4\r\n",
      "  Using cached pymorphy2_dicts_ru-2.4.417127.4579844-py2.py3-none-any.whl (8.2 MB)\r\n",
      "Collecting docopt>=0.6\r\n",
      "  Using cached docopt-0.6.2.tar.gz (25 kB)\r\n",
      "  Preparing metadata (setup.py) ... \u001B[?25ldone\r\n",
      "\u001B[?25hCollecting dawg-python>=0.7.1\r\n",
      "  Using cached DAWG_Python-0.7.2-py2.py3-none-any.whl (11 kB)\r\n",
      "Building wheels for collected packages: docopt\r\n",
      "  Building wheel for docopt (setup.py) ... \u001B[?25ldone\r\n",
      "\u001B[?25h  Created wheel for docopt: filename=docopt-0.6.2-py2.py3-none-any.whl size=13705 sha256=5f257dc57fb267cb6310f1d3999ddf975cec5f292aaa9a8dde1e13a9c7528250\r\n",
      "  Stored in directory: /Users/chertan/Library/Caches/pip/wheels/4e/29/5e/e5f6f558e24e0d70f6808e3e8fdaf2c04ff597233098afc550\r\n",
      "Successfully built docopt\r\n",
      "Installing collected packages: pymorphy2-dicts-ru, docopt, dawg-python, pymorphy2\r\n",
      "Successfully installed dawg-python-0.7.2 docopt-0.6.2 pymorphy2-0.9.1 pymorphy2-dicts-ru-2.4.417127.4579844\r\n",
      "\r\n",
      "\u001B[1m[\u001B[0m\u001B[34;49mnotice\u001B[0m\u001B[1;39;49m]\u001B[0m\u001B[39;49m A new release of pip available: \u001B[0m\u001B[31;49m22.3.1\u001B[0m\u001B[39;49m -> \u001B[0m\u001B[32;49m23.3.1\u001B[0m\r\n",
      "\u001B[1m[\u001B[0m\u001B[34;49mnotice\u001B[0m\u001B[1;39;49m]\u001B[0m\u001B[39;49m To update, run: \u001B[0m\u001B[32;49mpip install --upgrade pip\u001B[0m\r\n"
     ]
    }
   ],
   "source": [
    "!pip install pandas\n",
    "!pip install seaborn\n",
    "!pip install nltk\n",
    "!pip install stop-words\n",
    "!pip install spacy\n",
    "!pip install pymorphy2"
   ]
  },
  {
   "cell_type": "code",
   "source": [
    "import pandas as pd\n",
    "protocol = pd.read_csv(\"med.csv\", sep=';')\n",
    "protocol.head()"
   ],
   "metadata": {
    "colab": {
     "base_uri": "https://localhost:8080/",
     "height": 415
    },
    "id": "b6dOxbpiwE2e",
    "outputId": "d0665073-9376-4df3-da25-e04fb3ff1cd2",
    "ExecuteTime": {
     "end_time": "2023-11-15T18:30:58.005870Z",
     "start_time": "2023-11-15T18:30:57.439267Z"
    }
   },
   "execution_count": 1,
   "outputs": [
    {
     "data": {
      "text/plain": "   MedicalRecordKey        MedicalRecordDate  \\\n0         106627476  2023-09-01 18:39:46.000   \n1         106627477  2023-09-01 18:39:45.000   \n2         106627482  2023-09-01 18:39:53.000   \n3         106627486  2023-09-01 18:39:57.000   \n4         106627490  2023-09-01 18:40:03.000   \n\n                                          PatientKey  Возраст  Пол  \\\n0  0xA52FAC0660E364A3BD2338AD6749D320FF3E08338230...     9764  1.0   \n1  0xC03852BF5FDC992B86A87B1215BC47EBF66C1AB03F6D...    13814  1.0   \n2  0x417FA75C8DAD480F952C6931B305A0218311A4BE61E2...    10311  0.0   \n3  0x922886B7EA4058AC1BA576BEC37C24A4A2E8AB65E912...    22669  1.0   \n4  0xFAB438E0CA9FFC5CFF28E0B33914E95FEE9524108639...    15586  1.0   \n\n      СпециальностьВрача                                             Жалобы  \\\n0  Врач акушер гинеколог             на мажущие  выделения из половых путей   \n1            Врач уролог  на дискомфорт при мочеиспускании на учащенное ...   \n2  Врач дерматовенеролог            На покраснение и шелушение кожи головы.   \n3         Врач кардиолог  Подписано информированное добровольное согласи...   \n4  Врач акушер гинеколог  Жалобы на болезненность и нагрубание правой мо...   \n\n                             ПеренесенныеЗаболевания  \\\n0  Факт получения травм, ожогов, ран, проведения ...   \n1  Факт получения травм, ожогов, ран, проведения ...   \n2                                           ГЭРБ ЖДА   \n3                                        узловой зоб   \n4  Факт получения травм, ожогов, ран, проведения ...   \n\n                                ПеренесенныеОперации  \\\n0                                           Отрицает   \n1   аппендэктомия 2013.  кесарево  сечение -  пре...   \n2                                                  -   \n3  аппендицит в 15-летнем возрасте, удаление кист...   \n4  аппендэктомия  в 5 лет  Импланты молочных желе...   \n\n                                ПринимаемыеПрепараты  \n0                            Левотироксин 75 мкг/сут  \n1                                 монурал, канефрон.  \n2  Колекальльциферол - 4000 МЕ Калия йодид Мальто...  \n3  на пенициллиновый ряд - отек квинке, сульфанил...  \n4                                        Не отягощен  ",
      "text/html": "<div>\n<style scoped>\n    .dataframe tbody tr th:only-of-type {\n        vertical-align: middle;\n    }\n\n    .dataframe tbody tr th {\n        vertical-align: top;\n    }\n\n    .dataframe thead th {\n        text-align: right;\n    }\n</style>\n<table border=\"1\" class=\"dataframe\">\n  <thead>\n    <tr style=\"text-align: right;\">\n      <th></th>\n      <th>MedicalRecordKey</th>\n      <th>MedicalRecordDate</th>\n      <th>PatientKey</th>\n      <th>Возраст</th>\n      <th>Пол</th>\n      <th>СпециальностьВрача</th>\n      <th>Жалобы</th>\n      <th>ПеренесенныеЗаболевания</th>\n      <th>ПеренесенныеОперации</th>\n      <th>ПринимаемыеПрепараты</th>\n    </tr>\n  </thead>\n  <tbody>\n    <tr>\n      <th>0</th>\n      <td>106627476</td>\n      <td>2023-09-01 18:39:46.000</td>\n      <td>0xA52FAC0660E364A3BD2338AD6749D320FF3E08338230...</td>\n      <td>9764</td>\n      <td>1.0</td>\n      <td>Врач акушер гинеколог</td>\n      <td>на мажущие  выделения из половых путей</td>\n      <td>Факт получения травм, ожогов, ран, проведения ...</td>\n      <td>Отрицает</td>\n      <td>Левотироксин 75 мкг/сут</td>\n    </tr>\n    <tr>\n      <th>1</th>\n      <td>106627477</td>\n      <td>2023-09-01 18:39:45.000</td>\n      <td>0xC03852BF5FDC992B86A87B1215BC47EBF66C1AB03F6D...</td>\n      <td>13814</td>\n      <td>1.0</td>\n      <td>Врач уролог</td>\n      <td>на дискомфорт при мочеиспускании на учащенное ...</td>\n      <td>Факт получения травм, ожогов, ран, проведения ...</td>\n      <td>аппендэктомия 2013.  кесарево  сечение -  пре...</td>\n      <td>монурал, канефрон.</td>\n    </tr>\n    <tr>\n      <th>2</th>\n      <td>106627482</td>\n      <td>2023-09-01 18:39:53.000</td>\n      <td>0x417FA75C8DAD480F952C6931B305A0218311A4BE61E2...</td>\n      <td>10311</td>\n      <td>0.0</td>\n      <td>Врач дерматовенеролог</td>\n      <td>На покраснение и шелушение кожи головы.</td>\n      <td>ГЭРБ ЖДА</td>\n      <td>-</td>\n      <td>Колекальльциферол - 4000 МЕ Калия йодид Мальто...</td>\n    </tr>\n    <tr>\n      <th>3</th>\n      <td>106627486</td>\n      <td>2023-09-01 18:39:57.000</td>\n      <td>0x922886B7EA4058AC1BA576BEC37C24A4A2E8AB65E912...</td>\n      <td>22669</td>\n      <td>1.0</td>\n      <td>Врач кардиолог</td>\n      <td>Подписано информированное добровольное согласи...</td>\n      <td>узловой зоб</td>\n      <td>аппендицит в 15-летнем возрасте, удаление кист...</td>\n      <td>на пенициллиновый ряд - отек квинке, сульфанил...</td>\n    </tr>\n    <tr>\n      <th>4</th>\n      <td>106627490</td>\n      <td>2023-09-01 18:40:03.000</td>\n      <td>0xFAB438E0CA9FFC5CFF28E0B33914E95FEE9524108639...</td>\n      <td>15586</td>\n      <td>1.0</td>\n      <td>Врач акушер гинеколог</td>\n      <td>Жалобы на болезненность и нагрубание правой мо...</td>\n      <td>Факт получения травм, ожогов, ран, проведения ...</td>\n      <td>аппендэктомия  в 5 лет  Импланты молочных желе...</td>\n      <td>Не отягощен</td>\n    </tr>\n  </tbody>\n</table>\n</div>"
     },
     "execution_count": 1,
     "metadata": {},
     "output_type": "execute_result"
    }
   ]
  },
  {
   "cell_type": "code",
   "source": [
    "import re\n",
    "\n",
    "def whoosh(entry: str, *tokens: str) -> str:\n",
    "  result = entry[:]\n",
    "  for token in tokens:\n",
    "    result = result.replace(token, \"\")\n",
    "  return result\n",
    "\n",
    "def startswith(entry: str, *tokens: str) -> bool:\n",
    "  for token in tokens:\n",
    "    if entry.startswith(token):\n",
    "      return True\n",
    "  return False\n",
    "\n",
    "def prepare(entry: str) -> str:\n",
    "  prepared = \" \".join(entry.lower().split())\n",
    "  prepared = prepared[3:] if prepared.startswith(\"на \") else prepared\n",
    "  prepared = re.sub(\"[0-9]\", \"\", prepared.replace(\"\\\\\", \"/\").replace(\".\", \",\").replace(\":\", \",\"))\n",
    "  prepared = \"\" if startswith(prepared, \"жалоб нет\", \"жалоб нет,\", \"нет\", \"не предъявляет\", \"повторно: не предъявляет\", \"активных не\", \"активно не\", \"активных жалоб не\", \"момент осмотра жалоб\", \"жалоб в момент\", \"жалоб на момент\") else prepared\n",
    "  prepared = whoosh(prepared, \"жалобы на\", \"жалобы\", \"\\\"\", \"- \", \"повторно\", \"повторный осмотр\", \"первично\")\n",
    "  return \" \".join(re.sub(\"[\\(\\[].*?[\\)\\]]\", \"\", prepared).strip(\",\").strip().split())\n",
    "\n",
    "\n",
    "complaints = protocol[\"Жалобы\"].apply(prepare) # Получение и подготовка данных о жалобах\n",
    "complaints.head()"
   ],
   "metadata": {
    "colab": {
     "base_uri": "https://localhost:8080/"
    },
    "id": "I5h4IkqiQkyT",
    "outputId": "06625507-4b77-4f5f-dc7b-42f6dd7a516c",
    "ExecuteTime": {
     "end_time": "2023-11-15T18:31:01.722547Z",
     "start_time": "2023-11-15T18:31:01.582764Z"
    }
   },
   "execution_count": 2,
   "outputs": [
    {
     "data": {
      "text/plain": "0                   мажущие выделения из половых путей\n1    дискомфорт при мочеиспускании на учащенное моч...\n2                  покраснение и шелушение кожи головы\n3    подписано информированное добровольное согласи...\n4    болезненность и нагрубание правой молочной железы\nName: Жалобы, dtype: object"
     },
     "execution_count": 2,
     "metadata": {},
     "output_type": "execute_result"
    }
   ]
  },
  {
   "cell_type": "code",
   "source": [
    "# Токенизация\n",
    "import itertools\n",
    "\n",
    "tokens = [[compl.strip() for compl in compls.split(\",\")] for compls in complaints.tolist()]\n",
    "tokens = list(itertools.chain.from_iterable(tokens))\n",
    "tokens = list(filter(None, tokens))\n",
    "tokens = list(filter(lambda token: len(token) > 2, tokens))\n",
    "tokens[:5]"
   ],
   "metadata": {
    "colab": {
     "base_uri": "https://localhost:8080/"
    },
    "id": "T4aIevpUfegB",
    "outputId": "afa9c96c-158e-4d62-cd50-fd45e39c47bb",
    "ExecuteTime": {
     "end_time": "2023-11-15T18:31:04.065851Z",
     "start_time": "2023-11-15T18:31:04.051435Z"
    }
   },
   "execution_count": 3,
   "outputs": [
    {
     "data": {
      "text/plain": "['мажущие выделения из половых путей',\n 'дискомфорт при мочеиспускании на учащенное мочеиспускание',\n 'покраснение и шелушение кожи головы',\n 'подписано информированное добровольное согласие на получение й медико-санитарной помощи',\n 'прием кардиолога фоне стресса повышение ад / ммрттс с головными болями балла по ваш']"
     },
     "execution_count": 3,
     "metadata": {},
     "output_type": "execute_result"
    }
   ]
  },
  {
   "cell_type": "code",
   "source": [
    "# Нормализация (be patient, it's fairly slow)\n",
    "\n",
    "import pymorphy2\n",
    "\n",
    "def normal(token: str) -> str:\n",
    "  words = []\n",
    "  for word in token.split():\n",
    "    parsed = morph.parse(word)[0]\n",
    "    normalized = parsed.inflect({'sing', 'nomn'})\n",
    "    words.append(normalized.word if normalized is not None else parsed.normal_form)\n",
    "  return \" \".join(words)\n",
    "\n",
    "morph = pymorphy2.MorphAnalyzer()\n",
    "tokens = list(map(normal, tokens))\n",
    "tokens[:5]"
   ],
   "metadata": {
    "colab": {
     "base_uri": "https://localhost:8080/"
    },
    "id": "0bkVdCAFjAeO",
    "outputId": "80437863-c1a9-41a5-ef3f-24e884c40e2d",
    "ExecuteTime": {
     "end_time": "2023-11-15T18:31:52.754030Z",
     "start_time": "2023-11-15T18:31:15.865380Z"
    }
   },
   "execution_count": 5,
   "outputs": [
    {
     "data": {
      "text/plain": "['мажущий выделение из половой путь',\n 'дискомфорт при мочеиспускание на учащённое мочеиспускание',\n 'покраснение и шелушение кожа голова',\n 'подписанное информированное добровольное согласие на получение й медико-санитарная помощь',\n 'приём кардиолог фон стресс повышение ад / ммрттс с головной боль балл по ваш']"
     },
     "execution_count": 5,
     "metadata": {},
     "output_type": "execute_result"
    }
   ]
  },
  {
   "cell_type": "code",
   "source": [
    "from nltk import FreqDist\n",
    "\n",
    "freq_dist = FreqDist(tokens)\n",
    "list(sorted(freq_dist.items(), key=lambda x: x[1], reverse=True))[:11]"
   ],
   "metadata": {
    "colab": {
     "base_uri": "https://localhost:8080/"
    },
    "id": "C3Ezz80qg8UG",
    "outputId": "8c97c7bf-bcb5-4338-f382-94a63c48f8a3",
    "ExecuteTime": {
     "end_time": "2023-11-15T18:32:00.386880Z",
     "start_time": "2023-11-15T18:32:00.135514Z"
    }
   },
   "execution_count": 6,
   "outputs": [
    {
     "data": {
      "text/plain": "[('слабость', 505),\n ('общая слабость', 373),\n ('заложенность нос', 332),\n ('насморк', 193),\n ('боль в горло', 187),\n ('утомляемость', 184),\n ('дискомфорт', 173),\n ('першение в горло', 165),\n ('головокружение', 156),\n ('головная боль', 146),\n ('тошнота', 143)]"
     },
     "execution_count": 6,
     "metadata": {},
     "output_type": "execute_result"
    }
   ]
  },
  {
   "cell_type": "code",
   "source": [
    "# Функция преобразования исходной жалобы\n",
    "def transform(string: str) -> str:\n",
    "  return normal(prepare(string))"
   ],
   "metadata": {
    "id": "ApE2FDDLneax",
    "ExecuteTime": {
     "end_time": "2023-11-15T18:32:03.428081Z",
     "start_time": "2023-11-15T18:32:03.422729Z"
    }
   },
   "execution_count": 7,
   "outputs": []
  },
  {
   "cell_type": "code",
   "execution_count": 32,
   "outputs": [],
   "source": [
    "import spacy\n",
    "from spacy.lang.ru.examples import sentences \n",
    "\n",
    "nlp = spacy.load(\"ru_core_news_lg\")"
   ],
   "metadata": {
    "collapsed": false,
    "ExecuteTime": {
     "end_time": "2023-11-15T19:10:36.220107Z",
     "start_time": "2023-11-15T19:10:34.237470Z"
    }
   }
  },
  {
   "cell_type": "markdown",
   "source": [
    "а снизу что происходит........."
   ],
   "metadata": {
    "id": "yx_2U2mknBU4"
   }
  },
  {
   "cell_type": "code",
   "source": [
    "protocol[\"Жалобы\"] = protocol[\"Жалобы\"].str.strip()\n",
    "import nltk\n",
    "from nltk import FreqDist\n",
    "import pandas as pd\n",
    "from stop_words import get_stop_words\n",
    "\n",
    "patient_3_data = protocol[\"Жалобы\"].tolist()\n",
    "\n",
    "# Предобработка данных\n",
    "stop_words = get_stop_words('en')\n",
    "stop_words1 = [\"на момент осмотра \", \"нет\", \"не предъявляет\", '','на']\n",
    "text = \",\".join(patient_3_data)\n",
    "\n",
    "\n",
    "text = text.replace('.', '').lower()\n",
    "\n",
    "def repl():\n",
    "  global text\n",
    "  while \"  \" in text:\n",
    "    text = text.replace(\"  \", \" \").strip()\n",
    "\n",
    "\n",
    "text = text.replace('на момент осмотра жалоб не предъявляет', 'жалобы нет')\n",
    "repl()\n",
    "text = text.replace('не предъявляет','жалобы нет')\n",
    "repl()\n",
    "text = text.replace('на момент осмотра жалоб нет','жалобы нет')\n",
    "repl()\n",
    "text = text.replace('жалоб нет','жалобы нет')\n",
    "repl()\n",
    "text = text.replace('жалоб в момент осмотра жалобы нет','жалобы нет')\n",
    "repl()\n",
    "\n",
    "\n",
    "\n",
    "# Токенизация\n",
    "tokens = [word.lower() for word in text.split(', ') if word.lower() not in stop_words if word.lower() not in stop_words1]\n",
    "\n",
    "# Подсчет частотности\n",
    "freq_dist = FreqDist(tokens)\n",
    "\n",
    "# Сортировка по частотности\n",
    "sorted_freq = sorted(freq_dist.items(), key=lambda x: x[1], reverse=True)\n",
    "\n",
    "# Выбор топ-10\n",
    "top_10 = sorted_freq[:100]\n",
    "\n",
    "total = dict()\n",
    "ts = 0.7\n",
    "\n",
    "for phr, cnt in top_10:\n",
    "  emb = nlp(phr)\n",
    "  mx_sim = None\n",
    "  mx_val = 0\n",
    "  for k in total.keys():\n",
    "    if emb.similarity(total[k][\"nlp\"]) > mx_val:\n",
    "      mx_val = emb.similarity(total[k][\"nlp\"])\n",
    "      mx_sim = k\n",
    "  \n",
    "  if not mx_sim or mx_val < ts:\n",
    "    total[phr] = {\"cnt\": cnt, \"alias\": [phr], \"nlp\": emb}\n",
    "  else:\n",
    "    total[mx_sim][\"cnt\"] += cnt\n",
    "    total[mx_sim][\"alias\"].append(phr)\n",
    "\n",
    "for k in total.keys():\n",
    "  print(f\"{k}:\")\n",
    "  print(total[k])\n",
    "  print()\n"
   ],
   "metadata": {
    "colab": {
     "base_uri": "https://localhost:8080/",
     "height": 469
    },
    "id": "QFcaC14_ws1d",
    "outputId": "b7cb9c6d-4b0d-41e3-dd2a-f38d291948a3",
    "ExecuteTime": {
     "end_time": "2023-11-15T19:13:40.113548Z",
     "start_time": "2023-11-15T19:13:39.245764Z"
    }
   },
   "execution_count": 34,
   "outputs": [
    {
     "name": "stdout",
     "output_type": "stream",
     "text": [
      "слабость:\n",
      "{'cnt': 302, 'alias': ['слабость', 'общую слабость', 'общая слабость', 'слабость '], 'nlp': слабость}\n",
      "\n",
      "утомляемость:\n",
      "{'cnt': 217, 'alias': ['утомляемость', 'быструю утомляемость', 'повышенную утомляемость', 'повышенная утомляемость', 'раздражительность'], 'nlp': утомляемость}\n",
      "\n",
      "заложенность носа:\n",
      "{'cnt': 107, 'alias': ['заложенность носа'], 'nlp': заложенность носа}\n",
      "\n",
      "сонливость:\n",
      "{'cnt': 105, 'alias': ['сонливость', 'вялость'], 'nlp': сонливость}\n",
      "\n",
      "насморк:\n",
      "{'cnt': 67, 'alias': ['насморк'], 'nlp': насморк}\n",
      "\n",
      "першение в горле:\n",
      "{'cnt': 170, 'alias': ['першение в горле', 'боль в горле', 'першение', 'боли в горле', 'дискомфорт в горле ', 'дискомфорт в горле'], 'nlp': першение в горле}\n",
      "\n",
      "метеоризм:\n",
      "{'cnt': 52, 'alias': ['метеоризм'], 'nlp': метеоризм}\n",
      "\n",
      "дискомфорт:\n",
      "{'cnt': 49, 'alias': ['дискомфорт'], 'nlp': дискомфорт}\n",
      "\n",
      "головокружение:\n",
      "{'cnt': 49, 'alias': ['головокружение'], 'nlp': головокружение}\n",
      "\n",
      "вздутие живота:\n",
      "{'cnt': 59, 'alias': ['вздутие живота', 'вздутие'], 'nlp': вздутие живота}\n",
      "\n",
      "сухость во рту:\n",
      "{'cnt': 48, 'alias': ['сухость во рту', 'горечь во рту'], 'nlp': сухость во рту}\n",
      "\n",
      "потливость:\n",
      "{'cnt': 34, 'alias': ['потливость'], 'nlp': потливость}\n",
      "\n",
      "сухость кожи:\n",
      "{'cnt': 44, 'alias': ['сухость кожи', 'сухость'], 'nlp': сухость кожи}\n",
      "\n",
      "осиплость голоса:\n",
      "{'cnt': 33, 'alias': ['осиплость голоса'], 'nlp': осиплость голоса}\n",
      "\n",
      "головную боль:\n",
      "{'cnt': 62, 'alias': ['головную боль', 'головная боль'], 'nlp': головную боль}\n",
      "\n",
      "тошноту:\n",
      "{'cnt': 49, 'alias': ['тошноту', 'рвоту'], 'nlp': тошноту}\n",
      "\n",
      "тревожность:\n",
      "{'cnt': 31, 'alias': ['тревожность'], 'nlp': тревожность}\n",
      "\n",
      "снижение работоспособности:\n",
      "{'cnt': 39, 'alias': ['снижение работоспособности', 'снижение аппетита'], 'nlp': снижение работоспособности}\n",
      "\n",
      "головные боли:\n",
      "{'cnt': 27, 'alias': ['головные боли'], 'nlp': головные боли}\n",
      "\n",
      "стекание слизи по задней стенке глотки:\n",
      "{'cnt': 27, 'alias': ['стекание слизи по задней стенке глотки'], 'nlp': стекание слизи по задней стенке глотки}\n",
      "\n",
      "кашель:\n",
      "{'cnt': 52, 'alias': ['кашель', 'сухой кашель', 'кашель сухой'], 'nlp': кашель}\n",
      "\n",
      "выпадение волос:\n",
      "{'cnt': 26, 'alias': ['выпадение волос'], 'nlp': выпадение волос}\n",
      "\n",
      "зуд:\n",
      "{'cnt': 47, 'alias': ['зуд', 'жжение'], 'nlp': зуд}\n",
      "\n",
      "озноб:\n",
      "{'cnt': 25, 'alias': ['озноб'], 'nlp': озноб}\n",
      "\n",
      "тошнота:\n",
      "{'cnt': 39, 'alias': ['тошнота', 'рвота'], 'nlp': тошнота}\n",
      "\n",
      "черный стул:\n",
      "{'cnt': 24, 'alias': ['черный стул'], 'nlp': черный стул}\n",
      "\n",
      "кровь в кале:\n",
      "{'cnt': 24, 'alias': ['кровь в кале'], 'nlp': кровь в кале}\n",
      "\n",
      "усиливающиеся к концу дня:\n",
      "{'cnt': 23, 'alias': ['усиливающиеся к концу дня'], 'nlp': усиливающиеся к концу дня}\n",
      "\n",
      "учащенное сердцебиение:\n",
      "{'cnt': 50, 'alias': ['учащенное сердцебиение', 'учащенное мочеиспускание', 'сердцебиение'], 'nlp': учащенное сердцебиение}\n",
      "\n",
      "усталость:\n",
      "{'cnt': 21, 'alias': ['усталость'], 'nlp': усталость}\n",
      "\n",
      "изжогу:\n",
      "{'cnt': 21, 'alias': ['изжогу'], 'nlp': изжогу}\n",
      "\n",
      "тяжесть:\n",
      "{'cnt': 20, 'alias': ['тяжесть'], 'nlp': тяжесть}\n",
      "\n",
      "повышенное газообразование:\n",
      "{'cnt': 32, 'alias': ['повышенное газообразование', 'газообразование'], 'nlp': повышенное газообразование}\n",
      "\n",
      "больше справа:\n",
      "{'cnt': 30, 'alias': ['больше справа', 'больше слева'], 'nlp': больше справа}\n",
      "\n",
      "дискомфорт в области шеи:\n",
      "{'cnt': 19, 'alias': ['дискомфорт в области шеи'], 'nlp': дискомфорт в области шеи}\n",
      "\n",
      "отек:\n",
      "{'cnt': 18, 'alias': ['отек'], 'nlp': отек}\n",
      "\n",
      "обмороки:\n",
      "{'cnt': 18, 'alias': ['обмороки'], 'nlp': обмороки}\n",
      "\n",
      "недомогание:\n",
      "{'cnt': 17, 'alias': ['недомогание'], 'nlp': недомогание}\n",
      "\n",
      "повышение t тела:\n",
      "{'cnt': 17, 'alias': ['повышение t тела'], 'nlp': повышение t тела}\n",
      "\n",
      "без патологических примесей:\n",
      "{'cnt': 17, 'alias': ['без патологических примесей'], 'nlp': без патологических примесей}\n",
      "\n",
      "плаксивость:\n",
      "{'cnt': 16, 'alias': ['плаксивость'], 'nlp': плаксивость}\n",
      "\n",
      "слизистые выделения из носа:\n",
      "{'cnt': 16, 'alias': ['слизистые выделения из носа'], 'nlp': слизистые выделения из носа}\n",
      "\n",
      "жажду:\n",
      "{'cnt': 16, 'alias': ['жажду'], 'nlp': жажду}\n",
      "\n",
      "ноющего характера:\n",
      "{'cnt': 16, 'alias': ['ноющего характера'], 'nlp': ноющего характера}\n",
      "\n",
      "ноющие:\n",
      "{'cnt': 15, 'alias': ['ноющие'], 'nlp': ноющие}\n",
      "\n",
      "изжога:\n",
      "{'cnt': 15, 'alias': ['изжога'], 'nlp': изжога}\n",
      "\n",
      "за текущий год на лн не была в настоящее время лн не имеет согласие на прием и обследование получено:\n",
      "{'cnt': 15, 'alias': ['за текущий год на лн не была в настоящее время лн не имеет согласие на прием и обследование получено'], 'nlp': за текущий год на лн не была в настоящее время лн не имеет согласие на прием и обследование получено}\n",
      "\n",
      "без иррадиации:\n",
      "{'cnt': 15, 'alias': ['без иррадиации'], 'nlp': без иррадиации}\n",
      "\n",
      "ломоту в теле:\n",
      "{'cnt': 14, 'alias': ['ломоту в теле'], 'nlp': ломоту в теле}\n",
      "\n",
      "тяжесть в голове:\n",
      "{'cnt': 14, 'alias': ['тяжесть в голове'], 'nlp': тяжесть в голове}\n",
      "\n",
      "беспокойство:\n",
      "{'cnt': 13, 'alias': ['беспокойство'], 'nlp': беспокойство}\n",
      "\n",
      "отеки и судороги в голенях к вечеру:\n",
      "{'cnt': 13, 'alias': ['отеки и судороги в голенях к вечеру'], 'nlp': отеки и судороги в голенях к вечеру}\n",
      "\n",
      "головокружений на момент осмотра нет:\n",
      "{'cnt': 12, 'alias': ['головокружений на момент осмотра нет'], 'nlp': головокружений на момент осмотра нет}\n",
      "\n",
      "ограничение в движениях:\n",
      "{'cnt': 12, 'alias': ['ограничение в движениях'], 'nlp': ограничение в движениях}\n",
      "\n",
      "стул регулярный:\n",
      "{'cnt': 12, 'alias': ['стул регулярный'], 'nlp': стул регулярный}\n",
      "\n",
      "грудном:\n",
      "{'cnt': 12, 'alias': ['грудном'], 'nlp': грудном}\n",
      "\n",
      "плохой сон:\n",
      "{'cnt': 12, 'alias': ['плохой сон'], 'nlp': плохой сон}\n",
      "\n",
      "ходьбе:\n",
      "{'cnt': 21, 'alias': ['ходьбе', 'усиливающиеся при ходьбе'], 'nlp': ходьбе}\n",
      "\n",
      "слезотечение:\n",
      "{'cnt': 11, 'alias': ['слезотечение'], 'nlp': слезотечение}\n",
      "\n",
      "оформлено:\n",
      "{'cnt': 11, 'alias': ['оформлено'], 'nlp': оформлено}\n",
      "\n",
      "подписано:\n",
      "{'cnt': 11, 'alias': ['подписано'], 'nlp': подписано}\n",
      "\n",
      "отеки нижних конечностей:\n",
      "{'cnt': 11, 'alias': ['отеки нижних конечностей'], 'nlp': отеки нижних конечностей}\n",
      "\n",
      "головокружения:\n",
      "{'cnt': 11, 'alias': ['головокружения'], 'nlp': головокружения}\n",
      "\n",
      "покраснение:\n",
      "{'cnt': 11, 'alias': ['покраснение'], 'nlp': покраснение}\n",
      "\n",
      "нарушение сна:\n",
      "{'cnt': 11, 'alias': ['нарушение сна'], 'nlp': нарушение сна}\n",
      "\n",
      "тяжесть в правом подреберье:\n",
      "{'cnt': 10, 'alias': ['тяжесть в правом подреберье'], 'nlp': тяжесть в правом подреберье}\n",
      "\n",
      "ломкость ногтей:\n",
      "{'cnt': 10, 'alias': ['ломкость ногтей'], 'nlp': ломкость ногтей}\n",
      "\n",
      "боли в икроножных мышцах до ваш 2 балла:\n",
      "{'cnt': 10, 'alias': ['боли в икроножных мышцах до ваш 2 балла'], 'nlp': боли в икроножных мышцах до ваш 2 балла}\n",
      "\n",
      "усиливающиеся в вечернее время:\n",
      "{'cnt': 10, 'alias': ['усиливающиеся в вечернее время'], 'nlp': усиливающиеся в вечернее время}\n",
      "\n",
      "урчание:\n",
      "{'cnt': 10, 'alias': ['урчание'], 'nlp': урчание}\n",
      "\n",
      "аппетит сохранен:\n",
      "{'cnt': 10, 'alias': ['аппетит сохранен'], 'nlp': аппетит сохранен}\n",
      "\n",
      "тревога:\n",
      "{'cnt': 10, 'alias': ['тревога'], 'nlp': тревога}\n"
     ]
    },
    {
     "data": {
      "text/plain": "   MedicalRecordKey        MedicalRecordDate  \\\n0         106627476  2023-09-01 18:39:46.000   \n1         106627477  2023-09-01 18:39:45.000   \n2         106627482  2023-09-01 18:39:53.000   \n3         106627486  2023-09-01 18:39:57.000   \n4         106627490  2023-09-01 18:40:03.000   \n\n                                          PatientKey  Возраст  Пол  \\\n0  0xA52FAC0660E364A3BD2338AD6749D320FF3E08338230...     9764  1.0   \n1  0xC03852BF5FDC992B86A87B1215BC47EBF66C1AB03F6D...    13814  1.0   \n2  0x417FA75C8DAD480F952C6931B305A0218311A4BE61E2...    10311  0.0   \n3  0x922886B7EA4058AC1BA576BEC37C24A4A2E8AB65E912...    22669  1.0   \n4  0xFAB438E0CA9FFC5CFF28E0B33914E95FEE9524108639...    15586  1.0   \n\n      СпециальностьВрача                                             Жалобы  \\\n0  Врач акушер гинеколог             на мажущие  выделения из половых путей   \n1            Врач уролог  на дискомфорт при мочеиспускании на учащенное ...   \n2  Врач дерматовенеролог            На покраснение и шелушение кожи головы.   \n3         Врач кардиолог  Подписано информированное добровольное согласи...   \n4  Врач акушер гинеколог  Жалобы на болезненность и нагрубание правой мо...   \n\n                             ПеренесенныеЗаболевания  \\\n0  Факт получения травм, ожогов, ран, проведения ...   \n1  Факт получения травм, ожогов, ран, проведения ...   \n2                                           ГЭРБ ЖДА   \n3                                        узловой зоб   \n4  Факт получения травм, ожогов, ран, проведения ...   \n\n                                ПеренесенныеОперации  \\\n0                                           Отрицает   \n1   аппендэктомия 2013.  кесарево  сечение -  пре...   \n2                                                  -   \n3  аппендицит в 15-летнем возрасте, удаление кист...   \n4  аппендэктомия  в 5 лет  Импланты молочных желе...   \n\n                                ПринимаемыеПрепараты  \n0                            Левотироксин 75 мкг/сут  \n1                                 монурал, канефрон.  \n2  Колекальльциферол - 4000 МЕ Калия йодид Мальто...  \n3  на пенициллиновый ряд - отек квинке, сульфанил...  \n4                                        Не отягощен  ",
      "text/html": "<div>\n<style scoped>\n    .dataframe tbody tr th:only-of-type {\n        vertical-align: middle;\n    }\n\n    .dataframe tbody tr th {\n        vertical-align: top;\n    }\n\n    .dataframe thead th {\n        text-align: right;\n    }\n</style>\n<table border=\"1\" class=\"dataframe\">\n  <thead>\n    <tr style=\"text-align: right;\">\n      <th></th>\n      <th>MedicalRecordKey</th>\n      <th>MedicalRecordDate</th>\n      <th>PatientKey</th>\n      <th>Возраст</th>\n      <th>Пол</th>\n      <th>СпециальностьВрача</th>\n      <th>Жалобы</th>\n      <th>ПеренесенныеЗаболевания</th>\n      <th>ПеренесенныеОперации</th>\n      <th>ПринимаемыеПрепараты</th>\n    </tr>\n  </thead>\n  <tbody>\n    <tr>\n      <th>0</th>\n      <td>106627476</td>\n      <td>2023-09-01 18:39:46.000</td>\n      <td>0xA52FAC0660E364A3BD2338AD6749D320FF3E08338230...</td>\n      <td>9764</td>\n      <td>1.0</td>\n      <td>Врач акушер гинеколог</td>\n      <td>на мажущие  выделения из половых путей</td>\n      <td>Факт получения травм, ожогов, ран, проведения ...</td>\n      <td>Отрицает</td>\n      <td>Левотироксин 75 мкг/сут</td>\n    </tr>\n    <tr>\n      <th>1</th>\n      <td>106627477</td>\n      <td>2023-09-01 18:39:45.000</td>\n      <td>0xC03852BF5FDC992B86A87B1215BC47EBF66C1AB03F6D...</td>\n      <td>13814</td>\n      <td>1.0</td>\n      <td>Врач уролог</td>\n      <td>на дискомфорт при мочеиспускании на учащенное ...</td>\n      <td>Факт получения травм, ожогов, ран, проведения ...</td>\n      <td>аппендэктомия 2013.  кесарево  сечение -  пре...</td>\n      <td>монурал, канефрон.</td>\n    </tr>\n    <tr>\n      <th>2</th>\n      <td>106627482</td>\n      <td>2023-09-01 18:39:53.000</td>\n      <td>0x417FA75C8DAD480F952C6931B305A0218311A4BE61E2...</td>\n      <td>10311</td>\n      <td>0.0</td>\n      <td>Врач дерматовенеролог</td>\n      <td>На покраснение и шелушение кожи головы.</td>\n      <td>ГЭРБ ЖДА</td>\n      <td>-</td>\n      <td>Колекальльциферол - 4000 МЕ Калия йодид Мальто...</td>\n    </tr>\n    <tr>\n      <th>3</th>\n      <td>106627486</td>\n      <td>2023-09-01 18:39:57.000</td>\n      <td>0x922886B7EA4058AC1BA576BEC37C24A4A2E8AB65E912...</td>\n      <td>22669</td>\n      <td>1.0</td>\n      <td>Врач кардиолог</td>\n      <td>Подписано информированное добровольное согласи...</td>\n      <td>узловой зоб</td>\n      <td>аппендицит в 15-летнем возрасте, удаление кист...</td>\n      <td>на пенициллиновый ряд - отек квинке, сульфанил...</td>\n    </tr>\n    <tr>\n      <th>4</th>\n      <td>106627490</td>\n      <td>2023-09-01 18:40:03.000</td>\n      <td>0xFAB438E0CA9FFC5CFF28E0B33914E95FEE9524108639...</td>\n      <td>15586</td>\n      <td>1.0</td>\n      <td>Врач акушер гинеколог</td>\n      <td>Жалобы на болезненность и нагрубание правой мо...</td>\n      <td>Факт получения травм, ожогов, ран, проведения ...</td>\n      <td>аппендэктомия  в 5 лет  Импланты молочных желе...</td>\n      <td>Не отягощен</td>\n    </tr>\n  </tbody>\n</table>\n</div>"
     },
     "execution_count": 34,
     "metadata": {},
     "output_type": "execute_result"
    }
   ]
  },
  {
   "cell_type": "code",
   "execution_count": 36,
   "outputs": [
    {
     "data": {
      "text/plain": "[['слабость',\n  302,\n  ['слабость', 'общую слабость', 'общая слабость', 'слабость ']],\n ['утомляемость',\n  217,\n  ['утомляемость',\n   'быструю утомляемость',\n   'повышенную утомляемость',\n   'повышенная утомляемость',\n   'раздражительность']],\n ['першение в горле',\n  170,\n  ['першение в горле',\n   'боль в горле',\n   'першение',\n   'боли в горле',\n   'дискомфорт в горле ',\n   'дискомфорт в горле']],\n ['заложенность носа', 107, ['заложенность носа']],\n ['сонливость', 105, ['сонливость', 'вялость']],\n ['насморк', 67, ['насморк']],\n ['головную боль', 62, ['головную боль', 'головная боль']],\n ['вздутие живота', 59, ['вздутие живота', 'вздутие']],\n ['метеоризм', 52, ['метеоризм']],\n ['кашель', 52, ['кашель', 'сухой кашель', 'кашель сухой']]]"
     },
     "execution_count": 36,
     "metadata": {},
     "output_type": "execute_result"
    }
   ],
   "source": [
    "arr = []\n",
    "\n",
    "for k in total.keys():\n",
    "  arr.append([k, total[k][\"cnt\"], total[k][\"alias\"]])\n",
    "\n",
    "arr.sort(key=lambda x: -x[1])\n",
    "\n",
    "arr[:10]"
   ],
   "metadata": {
    "collapsed": false,
    "ExecuteTime": {
     "end_time": "2023-11-15T19:27:53.275621Z",
     "start_time": "2023-11-15T19:27:53.271136Z"
    }
   }
  },
  {
   "cell_type": "code",
   "execution_count": 37,
   "outputs": [
    {
     "data": {
      "text/plain": "[['слабость',\n  array([ 0.44384027, -0.5167469 , -0.03568546, -0.23720583, -0.31406626,\n          0.30673325, -0.28897515,  0.22336152, -0.14120463, -0.11627457,\n         -0.343573  ,  0.05225944,  0.32255733, -0.19465141,  0.25481915,\n          0.5279032 ,  0.24450353,  0.01340019, -0.21190792,  0.10627268,\n          0.55599564, -0.22277313,  0.14789967,  0.64476407,  0.15719151,\n         -0.41658998, -0.2976178 ,  0.39903706,  0.23750204, -0.0527476 ,\n          0.09097312,  0.32534945,  0.71052915,  0.03409079,  0.47539067,\n          0.14547287,  0.05179297,  0.5181091 ,  0.30392185, -0.07254013,\n         -0.00522797,  0.02311661,  0.260934  , -0.032636  ,  0.26126868,\n          0.01995839, -0.3664515 ,  0.41559902, -0.0947355 ,  0.22639632,\n          0.09444073,  0.26526847, -0.20700055,  0.5930662 , -0.33008954,\n         -0.03329009,  0.45642224, -0.6002267 , -0.06190338,  0.08602231,\n         -0.05748038, -0.4177087 ,  0.0048204 ,  0.35513014, -0.37837833,\n          0.02851   , -0.45072347, -0.41925287, -0.37336305, -0.26860628,\n          0.12966502,  0.20812085, -0.04609792, -0.15553239, -0.2277742 ,\n         -0.09001523, -0.04658046,  0.6237644 ,  0.0661369 ,  0.29429922,\n         -0.5486268 ,  0.10156613,  0.38961172, -0.55284524, -0.1656731 ,\n         -0.5963495 , -0.26194552, -0.2344315 ,  0.5843384 ,  0.10775514,\n         -0.12354261,  0.5710249 ,  0.1928207 , -0.00519067, -0.08040901,\n         -0.25713605,  0.03694353,  0.07514772,  0.13887207,  0.06147527,\n         -0.21604088,  0.30688697,  0.5738829 , -0.11413991,  0.28081304,\n          0.13002895, -0.30155852, -0.5389625 ,  0.33629894, -0.43151748,\n         -0.1756769 , -0.0228642 , -0.66006315, -0.26600012, -0.27328682,\n         -0.3212818 , -0.19301805, -0.2104781 , -0.17690463,  0.15585096,\n          0.4403529 , -0.15398604,  0.23185545, -0.1968084 ,  0.17585754,\n          0.49859643,  0.12570725,  0.34949163,  0.00890378,  0.1583394 ,\n          0.07982376, -0.6093232 , -0.24860826,  0.27532563, -0.05393368,\n          0.2649394 , -0.24475949, -0.21515156,  0.6652584 , -0.31839937,\n          0.16083491,  0.04528918, -0.1158525 , -0.3050217 , -0.13959394,\n          0.30617756,  0.2092029 ,  0.4795689 ,  0.44576544, -0.0336125 ,\n         -0.29530197,  0.18186322,  0.49879438,  0.24280947, -0.04456408,\n          0.15231723,  0.06763215, -0.02967924,  0.0075775 ,  0.29280806,\n         -0.49295056, -0.25691915, -0.24321038,  0.36472523,  0.15859754,\n         -0.03021753,  0.46605563,  0.12302881, -0.18323131,  0.24428275,\n          0.33886746,  0.3256365 ,  0.08380683,  0.22597466, -0.4967928 ,\n          0.58858955,  0.2616064 , -0.56616426, -0.08605449,  0.00536018,\n         -0.14048104, -0.2857458 ,  0.25106978, -0.385615  , -0.5113087 ,\n         -0.06723741, -0.0774609 ,  0.2449277 ,  0.5411527 ,  0.54625887,\n          0.32430017, -0.3525897 ,  0.11081223,  0.01120844,  0.04967071,\n         -0.27625176,  0.12756065,  0.17050707, -0.27859724,  0.2496164 ,\n          0.1643603 ,  0.17225185, -0.33061367,  0.21169227,  0.4007779 ,\n          0.4236133 ,  0.3136942 , -0.06273513, -0.12410452, -0.14410955,\n         -0.05202205, -0.12219131, -0.06283467,  0.05081951, -0.07379172,\n         -0.21822536,  0.40112314,  0.15328732,  0.2871626 ,  0.19790637,\n         -0.44874233, -0.26616126, -0.47910392,  0.10912096,  0.35262617,\n         -0.12384785, -0.26494232,  0.35199073, -0.10087993, -0.57349133,\n          0.559336  ,  0.00950051, -0.32963568, -0.18512884,  0.48799518,\n          0.00985747, -0.19348453,  0.62374496, -0.05664784,  0.15766025,\n         -0.18725897,  0.20279068, -0.03800071, -0.6037296 ,  0.03947932,\n         -0.05015061,  0.3919059 , -0.11987939,  0.23070921, -0.14498189,\n          0.09401754, -0.5008164 , -0.05357711,  0.01820997,  0.6012507 ,\n         -0.20655935,  0.17334121, -0.02412366, -0.14477398, -0.37779668,\n         -0.3135872 ,  0.02198946, -0.36914653,  0.45580095, -0.15776259,\n          0.09638155,  0.344193  , -0.3115851 , -0.09768409,  0.21876144,\n          0.12855665, -0.36661106, -0.5389589 , -0.44236726,  0.6938108 ,\n         -0.4959855 ,  0.1494992 , -0.04602568,  0.5083837 ,  0.19506001,\n          0.38181993,  0.0700756 ,  0.17264259,  0.30909988, -0.14542058,\n          0.14497657,  0.43253207, -0.26268792,  0.6111131 ,  0.3112296 ,\n         -0.15682626, -0.58919156, -0.05613607,  0.30088335,  0.16465515,\n         -0.53166425, -0.02763006,  0.3968719 , -0.15091622,  0.21567991],\n        dtype=float32)],\n ['утомляемость',\n  array([ 4.35915619e-01, -1.95909843e-01,  1.48236481e-02, -1.30201891e-01,\n         -6.23080313e-01,  6.89452171e-01,  1.63251936e-01,  4.13902134e-01,\n         -5.11330590e-02,  2.44530842e-01, -2.07444638e-01,  1.29650086e-01,\n          2.87071854e-01, -1.79139078e-02, -1.19622156e-01,  9.37870443e-02,\n          4.58005130e-01,  3.95197183e-01, -1.85434133e-01, -1.32657200e-01,\n          5.93917489e-01, -4.45694104e-02,  3.15162212e-01, -1.58033058e-01,\n          3.34796250e-01, -2.00074822e-01, -6.18115187e-01,  6.55745625e-01,\n          6.46572635e-02,  1.49726018e-01, -8.08562785e-02,  2.73300737e-01,\n         -5.05415499e-02, -4.27151740e-01,  2.15013340e-01,  3.11658502e-01,\n         -7.98020810e-02,  5.96598983e-01,  2.81375259e-01, -2.20014498e-01,\n         -1.25639006e-01,  1.45497262e-01,  2.72777319e-01,  4.02412325e-01,\n          2.00553611e-01, -1.11430861e-01, -2.97276795e-01,  1.42754659e-01,\n         -6.47172481e-02,  2.71644831e-01, -1.15465321e-01,  1.89412355e-01,\n         -4.58179951e-01,  9.91558209e-02, -3.12824219e-01,  4.27588940e-01,\n          5.05104005e-01, -7.85909653e-01,  1.24079965e-01,  3.36679369e-01,\n          5.83863780e-02, -2.70132244e-01,  3.98426235e-01,  1.71532363e-01,\n         -2.40530163e-01,  3.44733372e-02, -4.19044405e-01, -2.27250785e-01,\n         -1.35326117e-01,  5.95516562e-01,  3.86727333e-01,  1.07790008e-01,\n          1.95641860e-01,  5.35401940e-01, -7.90985078e-02, -1.23399854e-01,\n         -3.10510188e-01,  6.63267851e-01,  2.20416352e-01,  7.11030722e-01,\n          1.86278194e-01,  2.44777650e-01,  4.97956812e-01, -1.83308840e-01,\n         -4.44508135e-01, -3.24939370e-01, -1.78816378e-01, -8.53918865e-02,\n          6.92587733e-01,  1.38150558e-01, -9.38574001e-02,  1.42452745e-02,\n          3.47014755e-01, -1.88379586e-02, -5.87175190e-01,  1.72514468e-02,\n          4.59692001e-01, -2.67421842e-01,  5.90493679e-02, -2.37826899e-01,\n         -1.41504973e-01,  1.73233703e-01,  6.12714648e-01,  2.19939619e-01,\n         -4.35095638e-01,  2.45956033e-02,  8.22153091e-02, -4.27608103e-01,\n         -9.93877202e-02, -7.39587918e-02,  9.68711376e-02,  3.57924640e-01,\n         -1.52853727e-01,  7.35097826e-02, -2.40652323e-01, -1.86688513e-01,\n         -2.40847424e-01, -6.84902072e-02, -2.13731691e-01, -5.34882173e-02,\n          8.02461028e-01,  2.94262826e-01,  2.21674800e-01, -1.69384345e-01,\n          3.96602929e-01,  5.02324224e-01,  7.68012643e-01,  3.33264679e-01,\n         -8.36377442e-02,  2.75123775e-01,  1.53879955e-01, -5.14629856e-02,\n         -2.05851838e-01,  3.43549550e-01,  5.14057755e-01,  1.37393072e-01,\n         -7.19029784e-01, -5.47206774e-02,  9.16166455e-02, -2.30067253e-01,\n         -7.43307114e-01,  1.43073322e-02, -4.33882535e-01, -9.86336321e-02,\n         -8.65671188e-02,  4.41605747e-01, -2.73721278e-01,  3.27598095e-01,\n          4.43886578e-01, -3.82787883e-01, -1.43256364e-02,  2.86997229e-01,\n          5.28795362e-01,  2.32412428e-01,  1.68933019e-01,  6.50080442e-01,\n          2.87238896e-01, -3.70091259e-01, -3.56241390e-02,  2.49208778e-01,\n         -7.19625801e-02, -4.32530493e-01,  4.27260309e-01, -1.36372551e-01,\n         -4.01202023e-01,  6.06492050e-02,  6.47356153e-01,  3.78164381e-01,\n          2.53030956e-01,  1.81901023e-01,  1.09509036e-01,  4.21402678e-02,\n          4.76493537e-01, -5.19361913e-01, -5.26405215e-01, -3.31302062e-02,\n          1.43907160e-01, -3.15062344e-01, -1.27037376e-01,  3.39768618e-01,\n          5.19312501e-01, -6.82352707e-02,  3.79186869e-01, -1.83924288e-01,\n         -4.82445627e-01, -3.97660546e-02,  4.38040383e-02, -3.08595747e-01,\n         -7.29217520e-03, -5.71015291e-02,  2.93486834e-01, -2.18498424e-01,\n          3.13653409e-01, -2.16283277e-01,  5.30088656e-02, -3.76344919e-01,\n          1.91386148e-01, -1.33042259e-03,  1.49298638e-01, -1.04392789e-01,\n         -3.55864912e-01,  2.13945791e-01, -6.10735118e-01, -2.18788907e-01,\n          2.80208111e-01,  1.14859380e-01,  4.24791873e-01,  7.44492412e-02,\n         -1.27248958e-01, -1.27181616e-02, -5.82344346e-02, -1.72897126e-03,\n          4.93402421e-01, -2.81325638e-01, -1.69635147e-01, -3.72919261e-01,\n         -2.69251913e-01,  4.31585968e-01,  6.14285827e-01,  2.19363660e-01,\n         -1.67309985e-01, -7.14272112e-02, -2.02153683e-01,  6.91907823e-01,\n         -1.55279040e-03, -1.34755895e-01, -5.83405018e-01,  2.94182241e-01,\n          2.02427551e-01, -3.37131470e-01,  7.01120943e-02,  3.11015546e-01,\n         -3.71390611e-01, -5.01041889e-01,  1.18294790e-01,  9.33237225e-02,\n          7.40301728e-01,  3.40317041e-01, -1.85098380e-01, -1.65115699e-01,\n         -1.81028679e-01,  1.18525431e-01,  1.81454420e-01, -1.74009293e-01,\n          4.21278656e-01,  7.97983184e-02,  2.29072049e-01, -1.73548505e-01,\n         -1.34270698e-01, -1.36000231e-01, -5.17164528e-01, -6.04141414e-01,\n          1.46325111e-01, -4.04256321e-02,  5.15874386e-01, -7.68202394e-02,\n          4.28153127e-01, -3.15617532e-01,  5.16082952e-03, -3.15032065e-01,\n         -6.31824583e-02,  2.00793654e-01, -3.26405838e-02,  1.31140845e-02,\n         -4.46312904e-01, -2.42013216e-01,  5.25927424e-01, -1.06826248e-02,\n         -2.63691358e-02, -9.20149088e-02,  5.02865970e-01, -3.67008030e-01,\n         -3.68033737e-01, -3.34074914e-01,  4.10854429e-01, -7.52817392e-01,\n         -3.83187071e-05, -7.21501857e-02,  1.18359804e-01, -7.52500743e-02,\n          4.45982218e-01, -1.32746130e-01, -5.59488907e-02,  7.63307810e-02,\n          2.51497000e-01, -1.12099741e-02,  3.92664850e-01, -8.87745172e-02,\n         -7.77480528e-02,  7.73616582e-02,  1.86773315e-01,  6.30638897e-02,\n          3.69888730e-02,  4.36450332e-01, -2.04815775e-01,  9.53944102e-02,\n         -4.83975321e-01,  3.32363665e-01, -1.50117338e-01,  6.45770207e-02],\n        dtype=float32)],\n ['першение в горле',\n  array([-0.10102087, -0.41098353, -0.45753476,  0.18779284, -0.09356686,\n          0.41124144,  0.03304826,  0.55783266,  0.01956594, -0.0450224 ,\n          0.16932212,  0.13421087,  0.22534311, -0.38534507, -0.2008335 ,\n          0.41800746,  0.14182712, -0.00087384,  0.14699107,  0.0586378 ,\n         -0.2016439 ,  0.06031283, -0.18880431,  0.06359141,  0.22320293,\n          0.2002427 ,  0.06821413,  0.21044503,  0.20871402,  0.05403212,\n         -0.15980868,  0.33043513,  0.23744774,  0.21459943,  0.14334767,\n          0.31183147,  0.04964852,  0.2364481 , -0.15165134,  0.09812561,\n         -0.07929588, -0.14866662,  0.1071887 , -0.12345716,  0.38593066,\n         -0.0932392 , -0.54664236,  0.34438396, -0.10320898, -0.12891813,\n          0.3848599 ,  0.05219621,  0.03304889,  0.10935932, -0.31004897,\n         -0.04409328, -0.17492725, -0.05823147,  0.00212754, -0.32863906,\n         -0.13399449, -0.42003593, -0.08352043,  0.18318231,  0.06089762,\n          0.3895532 , -0.4466476 , -0.05698747,  0.08295178,  0.06485903,\n          0.24133675, -0.22838265, -0.29681647, -0.02298114,  0.00287606,\n         -0.30076078, -0.15880252,  0.3047689 ,  0.07593662,  0.15275823,\n         -0.3370925 , -0.00559479,  0.48121262, -0.02970365, -0.13490158,\n         -0.01871577, -0.3717223 , -0.11076017,  0.00153461,  0.15828295,\n         -0.26051843,  0.19269483,  0.11795259,  0.38335562, -0.07344121,\n          0.2762025 ,  0.10407758,  0.3446683 , -0.14439483,  0.22936647,\n         -0.16131674,  0.04836686, -0.0529107 ,  0.13495599,  0.11819106,\n          0.05299997, -0.00450672, -0.5030031 , -0.10284444, -0.11605624,\n         -0.18327914,  0.08602532, -0.14511572,  0.06665089,  0.23854929,\n          0.01965717,  0.17899235, -0.29728743, -0.17237489,  0.23866256,\n          0.28842685, -0.3616958 ,  0.39212278, -0.29970765,  0.15671599,\n         -0.07912257, -0.13911064, -0.21497075,  0.09294667,  0.1120767 ,\n          0.14083986,  0.05850636,  0.08562096,  0.10093889,  0.20346873,\n         -0.04109493,  0.05581704,  0.07526875, -0.08977912, -0.15217204,\n         -0.08609384,  0.4068199 ,  0.20854463, -0.07613225, -0.0931443 ,\n          0.0665543 ,  0.11866987,  0.12710631,  0.3440325 , -0.13194267,\n         -0.05953915,  0.04625411,  0.14299498,  0.24787109,  0.18601383,\n          0.08618733, -0.26348123,  0.22731896,  0.17236377,  0.02936465,\n         -0.2114883 , -0.20922607,  0.25531945, -0.063533  ,  0.29238045,\n          0.07932946,  0.20510472,  0.33137998,  0.1764102 ,  0.14192891,\n          0.38247284,  0.37509653,  0.21497321,  0.08379284,  0.10815593,\n          0.16068792,  0.49769822, -0.22651784,  0.10904025, -0.43093565,\n         -0.08796857, -0.26288274, -0.12543042, -0.01616588, -0.51007897,\n         -0.2706371 , -0.0700703 , -0.18081845, -0.05602642,  0.33881745,\n         -0.4207085 , -0.17721832,  0.10255694, -0.10920618,  0.00868178,\n         -0.32216507,  0.11369029,  0.00371934, -0.28374174, -0.08147306,\n          0.149108  , -0.12284485, -0.2842313 ,  0.05005486,  0.1538031 ,\n         -0.17521067,  0.30710045, -0.43608892, -0.13203783, -0.08675054,\n         -0.02232814, -0.07102831,  0.30285034, -0.11384892,  0.14254852,\n         -0.02051651, -0.149486  , -0.26708236,  0.3688034 ,  0.2953144 ,\n         -0.10185833, -0.07031187, -0.42723247, -0.16261037,  0.0113489 ,\n         -0.25852084, -0.12127449,  0.07262821,  0.07222968, -0.05036469,\n         -0.03879755,  0.26411155, -0.15963003,  0.05139864, -0.39333275,\n          0.26612177, -0.0219988 ,  0.60728526, -0.04501327,  0.0090904 ,\n         -0.00333818,  0.18162479, -0.11376247,  0.23869067,  0.2808882 ,\n          0.06564432,  0.21535723,  0.10541022,  0.10700793, -0.23383875,\n         -0.02462105, -0.33418453,  0.03873354,  0.06985311,  0.11531263,\n         -0.20971304,  0.25286326, -0.06325115,  0.10869984,  0.18114495,\n          0.04391652, -0.3492144 , -0.06472195,  0.10593712, -0.11955526,\n          0.05451323,  0.56180733, -0.28290603, -0.07123839, -0.06507888,\n          0.1614001 ,  0.18996398, -0.14374053,  0.07173648, -0.27194127,\n         -0.05290333,  0.14821902,  0.03233813,  0.22601168, -0.044057  ,\n         -0.08083632,  0.27609602, -0.06615285,  0.32145572, -0.16939126,\n         -0.02782055,  0.2438583 , -0.14075772,  0.20323114, -0.23005913,\n          0.2765263 , -0.1390756 , -0.06139006,  0.07701132,  0.26914707,\n         -0.21051048,  0.15883969,  0.16106425, -0.07215962,  0.29577085],\n        dtype=float32)],\n ['заложенность носа',\n  array([-3.05657506e-01,  4.19176258e-02, -2.49725685e-01, -9.65448469e-02,\n         -1.84661269e-01, -1.37455612e-02, -2.82271028e-01,  6.60049915e-01,\n         -8.04271176e-03,  6.27545595e-01,  5.18122971e-01,  4.14175361e-01,\n         -7.16388673e-02, -2.07304001e-01,  2.43301466e-02,  1.29511863e-01,\n          3.37346435e-01, -4.36015017e-02, -3.32349092e-01, -7.33224861e-03,\n          4.46783721e-01,  5.13376594e-01,  5.64751267e-01, -4.70430255e-02,\n         -1.63116813e-01,  1.79692715e-01,  3.00506055e-01,  2.29837775e-01,\n          2.41163999e-01,  1.51528660e-02,  7.88107514e-03,  1.14410475e-01,\n         -1.74723625e-01,  5.55704832e-01, -2.48448372e-01,  5.41235805e-01,\n          2.01122940e-01,  3.51878613e-01, -3.55864465e-02,  2.70030349e-02,\n         -4.72882032e-01, -2.71443397e-01, -3.52222472e-01,  3.10185432e-01,\n          4.37052429e-01, -2.67205834e-02, -1.68763563e-01,  4.68528926e-01,\n         -2.18513876e-01,  9.57246125e-02,  3.26258913e-02,  1.03825688e-01,\n          1.56669170e-02, -1.28566936e-01, -6.38175756e-04,  1.49447784e-01,\n          6.43102825e-03, -1.21249370e-01,  2.77997553e-02,  1.73941270e-01,\n         -3.17009866e-01, -1.46255270e-01,  2.49372780e-01, -2.91233361e-02,\n         -5.99094868e-01,  5.79892159e-01,  4.10963625e-01, -2.78867275e-01,\n         -1.92344576e-01, -6.50959164e-02,  1.50242224e-01, -3.76104712e-01,\n          1.84323758e-01,  2.89985597e-01,  2.10511222e-01, -1.00813344e-01,\n         -2.60695815e-01,  9.33840990e-01, -1.47251368e-01,  5.79154730e-01,\n         -1.05329715e-01,  4.53830421e-01,  5.95811367e-01, -4.46232617e-01,\n          3.28886747e-01, -1.33654252e-01, -6.66974306e-01, -1.33997187e-01,\n          1.21662430e-01, -4.55545843e-01,  1.32661253e-01, -1.37912676e-01,\n          3.43444467e-01,  2.34646022e-01, -2.93340355e-01,  1.89409912e-01,\n          4.84741300e-01,  4.98806089e-01,  2.82024562e-01,  6.96374476e-01,\n         -3.61237884e-01, -4.22838956e-01, -3.48455906e-01,  2.77743369e-01,\n          2.32912600e-04,  1.85841337e-01,  2.45132834e-01, -1.96091324e-01,\n         -9.59083438e-02,  3.19459319e-01, -5.98581493e-01,  3.72237027e-01,\n         -2.08710939e-01,  4.06900346e-01,  6.10026658e-01, -1.70673072e-01,\n          2.21401975e-02, -3.29103112e-01, -5.00443757e-01,  1.50359392e-01,\n          3.69781584e-01, -8.84270594e-02,  2.14169800e-01, -1.72567487e-01,\n          2.40986973e-01, -2.82645345e-01,  4.56826165e-02, -5.07732406e-02,\n          1.70662478e-02,  4.61467206e-01,  2.09168732e-01, -2.54269630e-01,\n         -9.38686728e-02,  1.55106634e-01,  6.39321744e-01, -2.84747124e-01,\n         -1.42146155e-01, -2.19635963e-02, -2.43728936e-01, -1.61955804e-01,\n          1.15214296e-01, -6.52479194e-03,  6.24666691e-01, -2.58837730e-01,\n         -6.00778997e-01, -2.46985164e-02,  1.85507715e-01,  1.15611134e-02,\n          6.06735229e-01,  4.10422385e-02, -2.55249858e-01,  1.88328862e-01,\n         -1.50645703e-01,  4.89176869e-01,  2.01921925e-01, -3.69407237e-02,\n          4.17358838e-02, -5.36900945e-02,  3.05984229e-01,  2.80854553e-01,\n         -2.96265930e-02,  1.08665466e-01,  1.02544278e-01,  6.03674769e-01,\n          4.40241098e-01, -3.60057056e-01, -1.89885527e-01, -1.32438734e-01,\n          2.12187052e-01, -6.65083349e-01, -5.63712060e-01,  4.02216852e-01,\n          4.46764886e-01, -3.73898655e-01,  5.73473275e-02, -9.93565097e-03,\n          2.99685806e-01,  2.06550643e-01,  2.88108528e-01, -4.96997356e-01,\n          4.58523691e-01, -1.59833476e-01,  7.91158229e-02, -3.59667838e-03,\n         -2.96479702e-01,  4.53911424e-02,  2.62192816e-01, -2.24773854e-01,\n         -1.47777766e-01, -2.36365765e-01, -6.15119696e-01, -9.79253575e-02,\n          2.41895139e-01,  7.80134350e-02,  7.12876022e-02, -1.47406012e-01,\n          3.03640753e-01,  1.63022056e-01,  7.51210153e-02, -4.38379467e-01,\n          1.83155209e-01, -1.15340590e-01, -3.75920773e-01, -1.98170394e-02,\n          6.86909631e-02, -1.09238878e-01,  1.17529586e-01, -4.80771363e-01,\n         -3.17458630e-01,  2.21129775e-01, -6.81798672e-04, -1.16221040e-01,\n          7.29890168e-02, -4.39716280e-02, -1.24782428e-01, -1.27112612e-01,\n          2.43100107e-01, -4.42253768e-01,  7.07055748e-01, -1.31138533e-01,\n          1.79035328e-02, -1.49634451e-01,  2.20485955e-01,  5.78416884e-02,\n         -2.31338769e-01, -6.72934294e-01,  3.25529277e-02,  4.64522660e-01,\n          4.06791456e-03, -5.43237090e-01, -4.28286225e-01,  1.49845123e-01,\n         -2.74471939e-02, -7.49805570e-01,  8.36127028e-02,  1.84077963e-01,\n          2.95193702e-01,  1.67871505e-01, -3.29091728e-01, -3.77938449e-01,\n          2.04244871e-02,  4.96293068e-01,  3.04120123e-01,  7.41975307e-02,\n         -4.37341258e-03, -4.72493529e-01, -1.66662544e-01, -1.16477430e-01,\n         -1.85354188e-01, -4.85562801e-01, -4.92351711e-01, -4.50699508e-01,\n         -3.05511728e-02,  1.40658379e-01,  5.18123329e-01,  2.63190120e-01,\n          2.07490027e-02, -4.94001985e-01,  3.51949260e-02,  1.10118419e-01,\n          1.99274607e-02,  2.45413989e-01, -3.39160889e-01,  4.39803749e-02,\n         -6.57175839e-01, -3.34577858e-01,  4.15138215e-01, -2.13901833e-01,\n         -2.11468667e-01, -5.19773781e-01,  2.84409702e-01, -1.87710479e-01,\n         -2.72980034e-01, -4.02061284e-01, -1.31084770e-01, -5.82887769e-01,\n         -5.92962205e-02,  3.14996749e-01,  9.07752663e-03, -2.26981640e-01,\n          4.49377298e-01, -3.57475340e-01,  2.48787507e-01, -1.94139361e-01,\n         -1.87370688e-01,  5.45101643e-01, -4.50153649e-01, -6.04963154e-02,\n          4.54713553e-01, -2.84075588e-02,  2.36869171e-01, -1.15248501e-01,\n          1.27567291e-01, -1.78098544e-01,  2.53983945e-01,  7.94491768e-02,\n         -6.09957218e-01, -4.94328409e-01, -1.99579582e-01, -3.36490989e-01],\n        dtype=float32)],\n ['сонливость',\n  array([ 0.68426675, -0.2751317 , -0.14503816, -0.1696172 , -0.59385633,\n          0.78928864, -0.2821591 ,  0.38513553, -0.15928659,  0.4191449 ,\n         -0.37157744,  0.06837761,  0.23147717, -0.28061613,  0.16576378,\n          0.02431695,  0.13149194,  0.45821217, -0.5591128 ,  0.08015336,\n          0.3273164 , -0.00158534, -0.05068588,  0.50653803,  0.2062386 ,\n         -0.38531458,  0.12348736,  0.14522374,  0.37873176, -0.09767526,\n         -0.11807542,  0.47002143,  0.19065586, -0.36571968,  0.32385287,\n          0.09520821, -0.30911183,  0.43081707,  0.14144397,  0.2904218 ,\n         -0.37375346, -0.0718831 ,  0.20905198, -0.22173077, -0.04506899,\n          0.30233294, -0.34124684,  0.1246821 ,  0.24627243,  0.7709938 ,\n         -0.03770196, -0.19765335,  0.14070909, -0.1280862 , -0.57729876,\n          0.52654153,  0.06895863, -0.86009985,  0.37703413,  0.03117588,\n          0.0685838 , -0.07546926,  0.15767248,  0.3004107 , -0.44718003,\n         -0.04330207, -0.32954454, -0.1952414 , -0.41966328,  0.1451354 ,\n          0.38979077,  0.42498177,  0.0832511 ,  0.07689129, -0.2088472 ,\n         -0.27684432, -0.50659937,  0.8630126 ,  0.14005928,  0.54511344,\n         -0.2423822 ,  0.2881058 ,  0.723042  , -0.00800639, -0.15465045,\n         -0.47522998, -0.23529531, -0.4519723 ,  0.3834115 , -0.0158038 ,\n         -0.22984926, -0.18307345,  0.62081337,  0.20508859, -0.47786313,\n          0.06811174,  0.18139778,  0.1375529 ,  0.36311272,  0.10216121,\n          0.06747931,  0.15443477,  0.6541616 ,  0.22547147, -0.15572345,\n          0.6418222 ,  0.19488251, -0.3423679 , -0.00719842, -0.44404727,\n         -0.20379823,  0.17895137, -0.5853684 ,  0.04844295,  0.25542986,\n         -0.36845714, -0.20694871, -0.43550077, -0.25007337,  0.39592028,\n          0.714328  , -0.010819  ,  0.3724904 , -0.42263436,  0.19623399,\n          0.23286831,  0.69897425,  0.08605626,  0.16421795,  0.595784  ,\n          0.4249249 , -0.3248743 , -0.28027928,  0.4523809 ,  0.25070602,\n          0.33071953, -0.7009523 ,  0.0535029 ,  0.0677565 ,  0.12922813,\n         -0.57941103, -0.04621533, -0.4558147 , -0.15904024, -0.12044246,\n          0.5489899 ,  0.05522367,  0.28864926,  0.45287406,  0.32200426,\n         -0.05651567,  0.16924816,  0.64563584,  0.15869871, -0.05190723,\n          0.2910394 ,  0.2090883 , -0.61001074,  0.04498938, -0.1903666 ,\n         -0.31863898, -0.18015876,  0.19701456, -0.00915778,  0.05359953,\n          0.16585864,  0.5270736 ,  0.15396987,  0.21268499, -0.05251772,\n          0.18525106,  0.13496466,  0.21700437, -0.00493125, -0.28081328,\n          0.22059084,  0.38693702, -0.79422635, -0.29372784,  0.18882252,\n          0.03735992, -0.3723111 ,  0.23498985, -0.54172873, -0.6642108 ,\n         -0.19996737,  0.5422348 , -0.41051078,  0.40556017, -0.26206133,\n          0.24127457, -0.03834286,  0.08535594,  0.00966695,  0.36187723,\n         -0.6345103 ,  0.25383747, -0.05014716, -0.03852011, -0.08144372,\n          0.01650832,  0.34708205, -0.363932  ,  0.31036633,  0.29343474,\n          0.01716319,  0.6086515 , -0.06884606, -0.04651672, -0.23853707,\n         -0.43786362, -0.05822521,  0.33284855, -0.04838184, -0.36196613,\n         -0.2904728 ,  0.13319322,  0.31403342,  0.53847885,  0.17965735,\n         -0.35362422, -0.11312364, -0.59368503,  0.59028107, -0.14142594,\n         -0.2658397 , -0.7291708 ,  0.3496287 ,  0.00284187, -0.21126983,\n          0.26439947,  0.0140257 , -0.4265188 , -0.08572181,  0.2910619 ,\n          0.09186141,  0.13820964,  0.39166662, -0.19163884,  0.38473117,\n         -0.0188435 ,  0.30828485,  0.32579672, -0.22076467,  0.3257748 ,\n         -0.05866991,  0.693807  ,  0.08667567,  0.13586262,  0.13382784,\n          0.2247517 , -0.41705096,  0.26213604,  0.04718942,  0.22636482,\n          0.03980428,  0.3277128 ,  0.21012993, -0.22601442, -0.24711677,\n         -0.2147757 , -0.1131129 , -0.22900704,  0.2707063 , -0.39421389,\n         -0.15358284,  0.6322321 , -0.24100946, -0.2217997 , -0.00453599,\n          0.45854288, -0.52797836, -0.254129  , -0.3548389 ,  0.29380548,\n         -0.55684197, -0.17517896,  0.09028725,  0.06007761,  0.32058245,\n          0.2292577 , -0.14914413,  0.17114565,  0.29478592, -0.11997406,\n          0.05744325,  0.3440902 , -0.6406347 , -0.18666601,  0.05578287,\n         -0.3785403 , -0.33567327, -0.14280505,  0.46726847,  0.10358655,\n         -0.11267344, -0.21542338,  0.27023044, -0.16307303, -0.18274361],\n        dtype=float32)],\n ['насморк',\n  array([-9.72432345e-02, -1.52116790e-01,  4.45890665e-01, -1.73787028e-01,\n         -4.18826610e-01,  1.17466331e-01, -1.97991639e-01,  9.70664620e-01,\n          8.67873356e-02,  3.43515128e-01, -2.79138446e-01, -3.07462335e-01,\n         -4.27578241e-01, -6.18864000e-01,  3.70624542e-01,  1.84477940e-01,\n          3.69018883e-01, -3.91648933e-02, -2.21510455e-01, -1.60243258e-01,\n          3.11477870e-01,  8.35692525e-01,  1.10568427e-01,  4.87481207e-01,\n         -4.19435382e-01,  7.49370813e-01,  1.99985266e-01,  2.27401853e-01,\n          2.02911869e-01, -8.20756238e-03, -7.02146232e-01,  3.70836407e-01,\n         -3.10028613e-01,  5.38498275e-02, -2.28756964e-01,  5.56352854e-01,\n          4.49929535e-02,  2.60996789e-01, -1.45262361e-01,  2.78724551e-01,\n         -6.70146286e-01, -4.35928404e-01, -1.96369156e-01, -1.09061696e-01,\n          3.63277853e-01, -2.01164976e-01, -2.31855005e-01,  2.20977068e-01,\n         -1.61283150e-01,  2.99577832e-01,  3.52278024e-01, -5.48210323e-01,\n          7.85949677e-02,  2.42604300e-01, -5.61873615e-01,  3.28394622e-01,\n          8.16281587e-02, -8.60099852e-01,  3.77034128e-01,  3.11758779e-02,\n         -2.14204974e-02,  7.35417530e-02,  3.69491816e-01, -3.19294065e-01,\n         -3.04611683e-01,  2.96519279e-01, -9.42858309e-02,  2.26281226e-01,\n         -7.34313726e-01, -1.73296735e-01, -1.72962084e-01, -3.62691611e-01,\n         -2.37827569e-01,  1.47809880e-02,  3.16454589e-01, -7.03791454e-02,\n         -6.57814741e-02,  9.50905561e-01, -1.53154880e-01,  6.07737482e-01,\n         -1.16666310e-01,  3.23794782e-01,  7.02965260e-01, -7.06550658e-01,\n         -1.85462847e-01, -6.31235540e-02,  1.44286528e-01,  1.05637237e-01,\n         -1.22013867e-01, -8.07239637e-02, -6.07154131e-01, -1.09435029e-01,\n          4.67183948e-01, -1.05349995e-01,  1.97950751e-01, -9.57524627e-02,\n         -3.64063866e-03,  4.47958082e-01,  7.02273428e-01,  1.64606243e-01,\n         -4.27509159e-01, -7.14103281e-02, -1.75949395e-01, -2.50330120e-01,\n         -4.88731623e-01,  7.07631528e-01,  1.69248894e-01, -4.97571856e-01,\n         -7.08393097e-01, -3.52337986e-04, -3.45427245e-01,  2.35807866e-01,\n         -7.38416016e-02, -1.15204886e-01, -9.23786759e-02, -2.86915511e-01,\n         -1.44575477e-01, -5.43681622e-01, -3.77284288e-01,  4.24424419e-03,\n          9.27887559e-01, -7.21808821e-02, -2.22067103e-01, -1.01767302e+00,\n          3.27621043e-01, -1.28715143e-01,  7.43984401e-01,  1.83212720e-02,\n         -7.09481388e-02,  5.43711841e-01,  2.24260300e-01, -1.77806288e-01,\n         -1.33489251e-01, -2.04490885e-01,  4.15389717e-01, -3.36730868e-01,\n         -2.75987536e-01, -1.38227120e-01, -6.04068875e-01, -2.03716919e-01,\n         -4.42927837e-01,  3.56319338e-01,  5.96590281e-01, -1.28905192e-01,\n          1.36125803e-01, -4.46001031e-02,  3.48622143e-01, -1.81510270e-01,\n          1.56316012e-01, -1.73124358e-01, -4.45723921e-01, -2.23761991e-01,\n          2.68693715e-01,  4.68263805e-01,  2.15333566e-01,  1.29789142e-02,\n          1.26707014e-02,  2.84401119e-01,  2.32070580e-01,  7.69700229e-01,\n          2.44540963e-02, -9.03798491e-02,  7.55424321e-01, -1.99100614e-01,\n          5.63157201e-01, -5.31488836e-01,  3.71375859e-01,  3.75523977e-02,\n         -8.80593956e-02, -5.62852383e-01,  8.31128806e-02,  3.74511182e-01,\n         -9.81798694e-02, -1.11940324e-01,  3.57011077e-03,  4.38092500e-01,\n          4.86979246e-01,  1.20107368e-01,  3.30111831e-01, -4.21596766e-01,\n          4.85031188e-01, -7.86166608e-01, -3.12327802e-01,  1.60235524e-01,\n         -6.73213005e-01,  1.55655295e-01,  3.36872548e-01, -2.91074544e-01,\n         -1.24014221e-01, -1.33476734e-01, -2.00773254e-01,  1.00955851e-01,\n          6.81382358e-01,  5.83397388e-01,  1.49174020e-01, -3.96472156e-01,\n          4.66608018e-01,  2.70688593e-01, -7.19650269e-01,  2.13769704e-01,\n         -4.69410151e-01, -9.43465754e-02, -5.45728981e-01, -5.82436681e-01,\n          4.59189057e-01, -3.39254946e-01,  3.92982304e-01, -3.96314740e-01,\n         -4.47908908e-01,  2.26160377e-01, -1.44320816e-01, -8.09879825e-02,\n          2.41321802e-01, -1.48434624e-01, -4.22113866e-01, -1.52986839e-01,\n         -3.56535584e-01, -4.61435854e-01,  5.89752793e-01,  1.77459404e-01,\n         -7.70059675e-02,  2.53304332e-01,  5.17139792e-01, -5.84849715e-03,\n         -3.68390717e-02, -7.25888491e-01, -2.53715247e-01,  7.45283008e-01,\n         -3.24193895e-01,  1.64462432e-01,  1.92255944e-01,  4.74188104e-02,\n         -2.64257252e-01, -1.70401990e-01, -3.25468123e-01, -3.45788449e-02,\n          2.60454506e-01,  6.38111949e-01,  7.03526512e-02, -1.00037426e-01,\n         -1.23514004e-01,  1.76034361e-01,  3.75055969e-01, -1.64693639e-01,\n          1.41494155e-01, -2.58906156e-01, -1.75724059e-01,  1.91056728e-01,\n         -8.82221088e-02, -8.29774514e-02, -1.54193223e-01, -3.61943036e-01,\n          9.63542089e-02,  3.17212462e-01,  7.89957821e-01,  5.53213656e-01,\n         -2.41152450e-01, -3.09675753e-01, -9.12244897e-03,  3.32382411e-01,\n          3.81464660e-01, -4.42088693e-01, -2.14263514e-01, -2.24660888e-01,\n         -2.60238051e-01, -1.00529537e-01,  4.88348663e-01,  4.95134518e-02,\n          3.23566608e-02, -3.65839660e-01,  2.29534715e-01, -2.40489572e-01,\n         -1.22614413e-01,  3.51954669e-01,  1.90817323e-02, -7.60381520e-01,\n          6.76445141e-02, -1.54835254e-01,  5.67342222e-01,  1.70144930e-01,\n          2.27168933e-01, -3.10791999e-01,  1.74526766e-01,  3.14423591e-01,\n          2.28375316e-01, -3.10097605e-01, -7.25550413e-01, -2.51818657e-01,\n          2.87030309e-01,  2.06207916e-01,  5.46345720e-03, -1.94062412e-01,\n         -3.62489462e-01, -4.62332405e-02,  2.38254055e-01, -1.35113765e-02,\n          5.68951033e-02, -5.51466227e-01, -7.59402156e-01, -2.05351919e-01],\n        dtype=float32)],\n ['головную боль',\n  array([ 0.3363095 , -0.37215847, -0.3656215 , -0.25059426, -0.16583167,\n          0.09026228,  0.00502418,  0.31395596, -0.1684298 ,  0.0843548 ,\n          0.22354884, -0.01614253,  0.5788959 , -0.45957324, -0.2077392 ,\n          0.35006976,  0.4934367 ,  0.06641821, -0.03137915,  0.09576508,\n          0.17980137,  0.1775087 , -0.22001374,  0.2556767 ,  0.3735851 ,\n          0.03930954,  0.07513889,  0.7385628 ,  0.2076866 , -0.10144064,\n         -0.2386939 ,  0.19153932,  0.89442325, -0.37824285,  0.4507578 ,\n          0.24642627,  0.10976121,  0.68749577,  0.06316285,  0.3656862 ,\n          0.03312415, -0.06212295,  0.33858243, -0.2561521 ,  0.24112818,\n          0.14114489, -0.15805003,  0.50801814, -0.14560106, -0.16125253,\n          0.2955709 , -0.07430596, -0.0507324 ,  0.01980767, -0.5850131 ,\n          0.03641808,  0.20173964, -0.73807317, -0.12492888,  0.07759276,\n         -0.07660565, -0.75259155, -0.01379541, -0.19772069, -0.47282907,\n          0.4081902 , -0.32837108,  0.10999323, -0.04506677, -0.10244226,\n          0.26408118, -0.00250266,  0.05609671, -0.02614229, -0.09409295,\n         -0.13434958, -0.11563117,  0.4971434 ,  0.4469059 ,  0.25963533,\n         -0.6769643 , -0.00629995,  0.6926676 , -0.06833562, -0.19461998,\n         -0.10223246, -0.6210593 , -0.40427253,  0.20828524, -0.04498913,\n          0.02154257, -0.04410075,  0.52940655, -0.22279379, -0.19466001,\n          0.21728525, -0.13589722,  0.09205056, -0.02055797,  0.08271286,\n         -0.30255207, -0.04288909,  0.08164723,  0.3070985 , -0.3245629 ,\n          0.43436086, -0.2765975 , -0.34624237,  0.01391068, -0.2946475 ,\n         -0.28339294, -0.1495469 , -0.37192187,  0.07032447, -0.00697585,\n          0.42757028,  0.17217956, -0.21388242, -0.48913345,  0.28462642,\n          0.49367827, -0.15636311,  0.00601351, -0.6841371 , -0.06473447,\n          0.43523464,  0.39420256, -0.21797521, -0.18246329,  0.36771372,\n         -0.01090285, -0.2713056 ,  0.11166659, -0.20020838,  0.17058578,\n         -0.02499756, -0.512365  ,  0.00367413, -0.09359787, -0.07345422,\n         -0.21092886,  0.49082965,  0.32293904, -0.1539835 ,  0.03721984,\n          0.31439123,  0.01107213,  0.13611642,  0.5268901 ,  0.03834614,\n         -0.47699293,  0.20485064,  0.6543033 ,  0.4392401 ,  0.07553275,\n          0.20238733,  0.02818918, -0.14499916,  0.32138574, -0.18283857,\n         -0.06769441, -0.45609945,  0.04990007,  0.05331836,  0.0941916 ,\n         -0.542269  ,  0.33362645,  0.3451929 ,  0.08634451, -0.21044832,\n          0.27181756,  0.41100714,  0.16573957,  0.38919586, -0.20861986,\n         -0.06688593,  0.270482  , -0.43138355, -0.03517762, -0.32340956,\n          0.04444052, -0.6777619 , -0.03504927, -0.36930418, -0.6553564 ,\n         -0.279858  , -0.4872013 , -0.13531184,  0.01237779,  0.54747593,\n         -0.13663909, -0.36448362, -0.18739197,  0.1660755 ,  0.1572865 ,\n         -0.4093786 ,  0.01509573, -0.19346797, -0.07428139, -0.11669669,\n          0.18669756, -0.09452841, -0.73093164, -0.03038466,  0.6631983 ,\n         -0.24896923,  0.45053834, -0.75445175, -0.44728237, -0.16315357,\n         -0.12561956, -0.28768766,  0.36977607, -0.17351305, -0.07687716,\n         -0.39802876, -0.17679566,  0.26000118,  0.1781326 ,  0.25281155,\n         -0.09308691, -0.5185107 , -0.38679466,  0.15088725,  0.10737082,\n         -0.31827122, -0.13791674,  0.28932667, -0.26434278, -0.28316417,\n          0.2989586 , -0.15033573,  0.05248386,  0.09758328, -0.0479218 ,\n          0.29708058,  0.29961002,  0.7526215 , -0.06306963,  0.3114128 ,\n          0.02446914,  0.39056993,  0.1631524 , -0.25348026,  0.14760926,\n         -0.04834996,  0.36503676, -0.10360792, -0.16421652,  0.06295459,\n         -0.5084247 , -0.7599116 ,  0.06120634,  0.04450929,  0.1925039 ,\n         -0.051411  ,  0.56587875,  0.12802447,  0.1997013 , -0.05114211,\n          0.15697926, -0.37186337, -0.53904814,  0.02628507, -0.26766706,\n         -0.03117107,  0.46040726, -0.28185275, -0.00654437,  0.13107602,\n          0.3719359 ,  0.403422  , -0.00755581, -0.13891979,  0.02213147,\n         -0.48486283,  0.12772271,  0.28352845,  0.12123714,  0.07139042,\n          0.41927046,  0.01585838, -0.06819999,  0.293253  , -0.24772653,\n          0.13867658,  0.03426354,  0.28200427,  0.43934256,  0.14522415,\n         -0.00406663, -0.3459434 , -0.15250498,  0.4572366 , -0.14676006,\n         -0.08123992,  0.39080632,  0.34942907, -0.18475485, -0.08476382],\n        dtype=float32)],\n ['вздутие живота',\n  array([ 6.14316985e-02,  3.08927327e-01, -2.57712066e-01,  2.11005490e-02,\n         -4.73556161e-01,  2.20926777e-01, -4.33235824e-01,  1.97498292e-01,\n         -2.18533412e-01,  2.47374579e-01,  2.39521787e-01,  1.03741631e-01,\n          2.25009471e-01,  1.41012251e-01,  2.08808199e-01,  5.95505871e-02,\n          7.34081388e-01,  2.71370649e-01, -1.92886338e-01,  3.19801271e-01,\n          4.43952262e-01,  6.78852856e-01, -1.32029086e-01,  6.31498545e-02,\n         -3.48065421e-02,  5.59495389e-02,  1.59315169e-01, -3.14784423e-03,\n          6.60586238e-01,  2.88843840e-01, -6.57687634e-02,  6.87085211e-01,\n          3.00383955e-01, -4.74817157e-01, -1.79574154e-02,  4.17949140e-01,\n          3.28635752e-01,  2.92979777e-01,  1.48398817e-01, -4.46548574e-02,\n         -6.46433234e-02, -1.09288394e-01, -2.63538003e-01,  4.55758363e-01,\n          5.81339359e-01, -2.63494372e-01, -3.08374524e-01,  6.34685457e-02,\n          3.12111169e-01, -5.39679587e-01,  1.00735500e-02,  3.30961198e-01,\n         -9.33052003e-02, -5.49395204e-01, -4.34972554e-01,  7.88559318e-01,\n          1.87604249e-01, -4.08065856e-01,  8.60381573e-02, -7.08786473e-02,\n         -8.97947699e-03,  1.69306695e-01, -6.66898713e-02, -9.76234078e-02,\n         -5.43475151e-01,  5.98907948e-01, -8.20905417e-02,  1.18733160e-02,\n         -1.04863793e-02,  2.27694601e-01,  4.38493103e-01,  1.30916297e-01,\n         -2.47472748e-02, -9.85300913e-02,  5.91139048e-02, -3.21300685e-01,\n         -1.41700238e-01,  7.53613532e-01, -4.03720438e-01,  5.42119205e-01,\n         -2.20376536e-01, -2.15206623e-01,  4.36618924e-01, -1.01290941e-02,\n          3.83271456e-01,  2.93383300e-01, -2.99373597e-01, -6.36105835e-01,\n         -3.17678154e-01, -8.43226463e-02,  2.38893554e-02,  2.72677958e-01,\n          7.67101943e-02, -1.17584869e-01, -5.22755384e-02,  1.17465243e-01,\n         -1.33105889e-01,  5.70305586e-01,  1.72126126e-02,  1.74017385e-01,\n         -2.49818042e-01, -4.13182169e-01, -1.52388230e-01,  5.65910518e-01,\n          4.60824147e-02,  1.65089846e-01,  1.20144859e-01, -7.31089592e-01,\n         -3.45750451e-02,  7.34210759e-02, -8.47990885e-02,  5.69756150e-01,\n         -2.78205454e-01,  4.74069029e-01, -6.36586025e-02,  2.26227820e-01,\n          4.27905858e-01, -1.80561066e-01,  1.45923555e-01, -4.27022651e-02,\n         -3.25219184e-02, -5.70174381e-02, -3.86552140e-02, -4.66847450e-01,\n          5.04012585e-01,  2.72531956e-01,  6.74530327e-01, -6.96665272e-02,\n          1.02391653e-02,  5.09788729e-02,  5.82282133e-02,  3.13992858e-01,\n         -1.14995971e-01,  7.16286451e-02,  3.87460649e-01, -1.37198955e-01,\n         -7.74493366e-02,  2.20630825e-01, -3.16746414e-01, -4.95969594e-01,\n         -8.32883239e-01,  1.35244519e-01,  2.83874303e-01, -3.70745361e-01,\n          1.74892411e-01, -3.96631584e-02, -6.97183132e-01, -4.94308993e-02,\n          5.33044934e-01, -3.01939249e-01,  1.27022207e-01,  2.32001871e-01,\n         -4.68322560e-02,  1.79904550e-01,  6.31198168e-01,  1.95036829e-01,\n          2.92710483e-01, -1.64306954e-01,  2.23098606e-01,  3.15651521e-02,\n          3.52295846e-01, -3.38951170e-01,  1.73398387e-02, -1.07727081e-01,\n          5.64691186e-01, -1.69998527e-01, -4.42057490e-01, -1.92427158e-01,\n         -7.52863526e-01,  8.71183723e-02,  9.05093774e-02,  1.75687876e-02,\n          1.53481275e-01, -2.04905689e-01, -1.13436328e-02,  1.15044832e-01,\n          3.92606497e-01,  1.38634741e-01,  1.65023282e-01,  5.86996973e-03,\n          3.61981064e-01, -7.58307815e-01, -2.49168783e-01,  2.59718865e-01,\n         -4.74170506e-01,  3.17398719e-02,  8.65413696e-02,  3.00565753e-02,\n          2.50263929e-01, -2.40868002e-01,  1.37871504e-02, -4.95565355e-01,\n         -7.70036057e-02,  4.84421011e-03, -3.24386418e-01, -7.59066343e-01,\n          2.30997697e-01, -3.13131422e-01, -3.36778134e-01, -2.94710368e-01,\n          3.44355792e-01, -6.85087979e-01, -5.29504538e-01, -1.51170418e-01,\n          3.06052178e-01, -5.01674235e-01,  4.11723912e-01, -7.52632916e-02,\n          9.15675238e-02,  9.48088467e-02,  3.30984257e-02, -2.56290846e-02,\n          1.65473342e-01, -4.79288161e-01,  1.65890694e-01, -5.62200725e-01,\n          3.68537307e-01,  4.69374359e-01,  6.07759953e-01, -2.77358323e-01,\n          3.39282304e-02, -2.25822061e-01, -2.00619310e-01,  6.02365375e-01,\n         -2.14410692e-01, -2.49697164e-01,  1.70226723e-01, -3.41255069e-01,\n          2.03524381e-01,  1.31217763e-03, -1.77678525e-01,  4.14736211e-01,\n         -3.48306566e-01, -4.02518898e-01, -2.51367986e-01,  2.52970643e-02,\n          8.49054098e-01,  6.12035573e-01, -1.94382057e-01,  3.77182662e-01,\n         -1.97792113e-01,  2.51274168e-01, -3.06937307e-01, -5.70894718e-01,\n          3.15531969e-01,  3.48368526e-01,  4.48738456e-01,  1.33808166e-01,\n          4.51712385e-02, -3.88470471e-01,  1.44279748e-02, -2.33884782e-01,\n          2.97083765e-01, -8.02440271e-02,  9.43578333e-02, -3.87718976e-02,\n          3.27407002e-01,  1.84600353e-01, -1.63112164e-01, -3.43003631e-01,\n          6.30706549e-04, -1.74226537e-01,  1.32823408e-01,  2.32650682e-01,\n         -6.10271811e-01, -6.43789619e-02,  2.70591140e-01,  1.20410874e-01,\n          1.93656251e-01, -3.94690603e-01, -5.51570319e-02,  5.60214669e-02,\n         -6.94610000e-01, -7.89597273e-01,  7.32987225e-02, -8.39642882e-02,\n         -3.23180348e-01,  3.23450118e-02,  9.62152630e-02, -1.58267289e-01,\n          7.01086342e-01,  3.35422575e-01,  5.53967915e-02,  4.11788300e-02,\n         -1.67685166e-01,  9.36899036e-02,  1.43646985e-01, -2.49588639e-01,\n         -2.10852623e-01, -5.68935812e-01,  2.11823910e-01,  2.47978978e-02,\n          2.59668112e-01,  2.54912972e-02,  2.66652822e-01, -1.51178136e-01,\n         -1.67934164e-01,  1.22149184e-01, -3.46981525e-01, -4.19885933e-01],\n        dtype=float32)],\n ['метеоризм',\n  array([ 5.37234768e-02, -8.13841000e-02, -5.13751149e-01, -5.47299445e-01,\n         -2.99537003e-01,  2.12755620e-01,  4.26016413e-02,  6.71868443e-01,\n         -4.07243110e-02,  2.43994862e-01,  2.89735734e-01, -4.74120118e-02,\n          2.05623701e-01,  5.26628077e-01,  9.92071331e-02,  3.02896976e-01,\n          3.27648193e-01,  4.97071087e-01, -1.55954197e-01, -3.36169526e-02,\n          4.59911257e-01,  4.14983422e-01, -3.90152454e-01,  3.01421225e-01,\n          3.04965615e-01,  4.80641633e-01,  1.82743028e-01,  2.30966508e-02,\n          5.88836908e-01,  2.34459132e-01, -2.79681444e-01,  3.69562507e-01,\n         -7.08835339e-03, -6.76181078e-01, -1.11112140e-01,  4.15688217e-01,\n          2.73636162e-01,  5.75136125e-01, -1.38083711e-01, -3.54762487e-02,\n          1.81157410e-01, -5.93765736e-01, -2.84738779e-01,  2.04273194e-01,\n          4.76898342e-01, -9.52566743e-01, -9.76006612e-02,  4.13082361e-01,\n          7.49234974e-01, -7.30113462e-02,  4.09171849e-01,  4.36011612e-01,\n         -3.53284597e-01, -3.48045349e-01, -3.01851571e-01,  9.17988479e-01,\n          2.58239150e-01, -6.01350367e-01,  2.28323713e-01,  4.50585067e-01,\n          4.71626729e-01,  3.95591706e-01,  1.82488382e-01, -6.32274523e-02,\n         -9.78154361e-01,  3.06026608e-01, -6.09434545e-01, -4.77065027e-01,\n         -4.46860641e-01,  6.61765575e-01,  4.25801009e-01, -1.28026798e-01,\n          9.71437916e-02,  6.04389846e-01,  4.62178476e-02, -7.03791454e-02,\n         -6.57814741e-02,  9.50905561e-01, -4.51971799e-01,  6.90925717e-01,\n          4.40562665e-01,  1.58618376e-01,  5.02606034e-01, -1.14648908e-01,\n          3.13417524e-01,  6.59678280e-01, -1.67320922e-01, -5.74759364e-01,\n         -1.72537550e-01, -1.24752209e-01, -8.72939110e-01,  5.08274743e-03,\n          6.95861578e-02, -1.71652958e-01, -2.38801196e-01, -2.00866070e-02,\n          2.17089221e-01,  2.66960204e-01, -2.84754448e-02, -3.98459166e-01,\n         -4.31516767e-01,  7.18533471e-02, -8.00708756e-02,  1.93554431e-01,\n         -2.55049113e-02,  6.14895672e-02,  4.03803319e-01, -4.79453802e-01,\n          1.20596681e-02, -1.90854624e-01,  1.73556656e-01,  4.77593929e-01,\n         -2.67187227e-02,  1.36214495e-01, -3.39082301e-01,  7.52093196e-02,\n          3.02115738e-01, -1.48542151e-01, -1.30579412e-01, -1.72655612e-01,\n          1.90873548e-01,  6.74534082e-01, -1.91911578e-01, -5.52749872e-01,\n          4.28824991e-01,  7.65632451e-01,  6.63679302e-01, -1.99158400e-01,\n         -1.96810186e-01,  2.54471093e-01, -1.56073779e-01,  5.32412887e-01,\n         -1.13180600e-01,  1.78264365e-01,  4.92307395e-01, -7.98911810e-01,\n         -6.66676641e-01,  6.07411414e-02, -1.43718496e-01, -9.62751284e-02,\n         -1.12143946e+00,  3.08785498e-01,  1.35440394e-01, -2.63695478e-01,\n          2.53278762e-01, -1.40797738e-02, -8.39482248e-01,  1.86512291e-01,\n          6.39054894e-01, -2.44340137e-01, -4.40231085e-01,  1.38762310e-01,\n         -1.71001419e-01, -3.66713628e-02,  5.09514749e-01,  2.94747710e-01,\n          5.98186255e-01, -6.85248852e-01,  1.98254380e-02, -3.39363515e-01,\n          4.59418297e-01, -3.53998244e-01, -1.84790604e-02, -1.44943148e-01,\n          5.48620760e-01, -1.16823904e-01,  9.87790246e-03, -2.73877025e-01,\n         -4.00681913e-01,  1.04485393e-01, -2.71263629e-01, -1.34989217e-01,\n          4.86127645e-01, -3.32304835e-01,  1.42286435e-01,  1.41879737e-01,\n          3.59642476e-01,  1.05374053e-01,  7.02892065e-01,  6.49727359e-02,\n          4.63873029e-01, -5.13702631e-01,  6.10588528e-02,  2.91851908e-01,\n         -2.92735875e-01, -2.51563400e-01,  6.96371853e-01,  1.20796867e-01,\n          3.37048143e-01, -6.70876682e-01,  2.80264884e-01, -5.24751008e-01,\n         -5.21542877e-02, -3.80784929e-01, -8.27153921e-01, -9.70421135e-01,\n          2.86143392e-01, -3.37884575e-01, -2.94014990e-01,  6.66863859e-01,\n         -3.24378699e-01, -5.25388539e-01, -2.54550546e-01, -4.84868199e-01,\n          3.11815381e-01, -7.07388639e-01,  4.53063041e-01, -6.01308830e-02,\n          2.01360315e-01, -2.95463592e-01, -9.43325285e-04, -1.52228132e-01,\n          2.40229487e-01, -9.19894695e-01,  6.90162331e-02, -4.33829010e-01,\n          1.02661006e-01,  7.74349093e-01,  4.81356382e-01, -1.02882314e+00,\n          1.13714516e-01,  3.80012989e-02, -2.63420075e-01,  8.45151782e-01,\n         -1.93146188e-02, -6.32802486e-01,  1.23638049e-01, -3.18997763e-02,\n          4.22053039e-01, -9.32513326e-02, -5.93659222e-01,  6.03760421e-01,\n          1.52881639e-02,  3.08183376e-02, -2.38806292e-01, -8.73799548e-02,\n          9.91636395e-01,  7.45449007e-01, -3.38186920e-01, -4.92625944e-02,\n          1.17414370e-02, -2.07834274e-01,  9.61286109e-03, -1.00644551e-01,\n          8.50089669e-01, -1.70339257e-01,  7.20480308e-02,  3.29798251e-01,\n          5.21607578e-01, -9.08804059e-01, -2.95737743e-01, -3.10871691e-01,\n          4.05338079e-01, -3.13484997e-01,  4.17086035e-01,  1.00963451e-02,\n          2.06885397e-01,  4.12501454e-01, -3.77316087e-01, -2.41629481e-01,\n          2.31464347e-03, -4.39092219e-01, -4.33423787e-01, -3.47075224e-01,\n         -7.48612165e-01, -4.65443552e-01, -4.47132498e-01,  7.62206763e-02,\n          1.89155087e-01, -4.34936017e-01, -8.72522891e-02, -3.70949179e-01,\n         -3.63395852e-03, -6.39050901e-01, -9.42674726e-02, -1.66551024e-01,\n          2.77161356e-02, -3.48825455e-01, -8.89591649e-02, -2.79941648e-01,\n          5.59065342e-01,  5.36875308e-01, -2.80413359e-01, -1.67904034e-01,\n          2.84314416e-02, -4.14734840e-01, -5.46610542e-03, -2.55196899e-01,\n         -3.09805304e-01, -6.31209075e-01,  3.03135812e-01, -1.68419227e-01,\n          5.05682430e-04,  1.16664469e-02,  1.71250850e-01, -2.08540618e-01,\n          3.59383761e-03,  9.35545638e-02, -2.63099104e-01, -5.40442765e-01],\n        dtype=float32)],\n ['кашель',\n  array([-0.21499908, -0.4606416 , -0.44892272, -0.10676063, -0.54258096,\n          0.3703699 , -0.44096577,  0.27141783, -0.15357876, -0.08031137,\n         -0.14993419,  0.09471428, -0.49352026, -0.29030302,  0.46137568,\n          0.510528  ,  0.4748961 ,  0.06730683,  0.09835964,  0.01096367,\n          0.43290016,  0.16076837,  0.20721443,  0.58073926,  0.0740547 ,\n          0.11036123, -0.21905072,  0.41122594, -0.07225468, -0.1546244 ,\n         -0.45397595,  0.261997  ,  0.45683685,  0.18978544, -0.29974467,\n          0.2962564 ,  0.04784188, -0.01373681,  0.02972114,  0.33057633,\n         -0.5305963 , -0.04780882,  0.07149665, -0.25497445,  0.52420425,\n         -0.10674091, -0.6395467 ,  0.12957954, -0.19713421, -0.15796722,\n          0.71405673, -0.15544635, -0.11954317,  0.11378708, -0.18210109,\n          0.2599613 ,  0.03282149, -0.21704341,  0.6193175 , -0.14593683,\n         -0.09400488, -0.19063967,  0.3910606 , -0.07331531, -0.23418339,\n          0.43009844, -0.21504922, -0.02175752, -0.45993748,  0.30159238,\n          0.10158332, -0.21831365, -0.18009233, -0.1427748 , -0.25068936,\n         -0.15276259, -0.00973889,  0.53137344,  0.32557192,  0.34508047,\n         -0.33055678, -0.17671733,  0.68119687, -0.06766677, -0.15674931,\n          0.04746833, -0.46732557, -0.18642819, -0.25083268, -0.1402802 ,\n         -0.6814785 ,  0.13156165, -0.25394353,  0.05243909, -0.22029622,\n          0.3122271 ,  0.04452441,  0.5942027 ,  0.6781228 , -0.17104554,\n         -0.16500734,  0.03579835, -0.21482612, -0.14691712, -0.24224353,\n          0.05181016, -0.29080427, -0.18871771, -0.7453583 , -0.04976717,\n         -0.18745439,  0.25894836, -0.02714973, -0.5703057 ,  0.09239035,\n         -0.15203042,  0.2644004 , -0.50259614, -0.0629279 ,  0.02617296,\n          0.4129714 , -0.4654597 , -0.10340109, -0.3131621 ,  0.21943021,\n         -0.4282507 ,  0.6110595 , -0.2960857 , -0.58562917,  0.3264371 ,\n         -0.0673587 ,  0.22441705, -0.03224744,  0.24172425,  0.07399172,\n         -0.30030128, -0.06465554,  0.2704107 , -0.5724961 , -0.11486485,\n         -0.18544674,  0.6033501 ,  0.55946845,  0.02255622, -0.01517126,\n         -0.15209891, -0.05856221, -0.06632156,  0.37050322,  0.01695328,\n         -0.34935236, -0.56594604,  0.1772489 ,  0.6579376 ,  0.39874148,\n         -0.1633988 ,  0.52257234,  0.46398512,  0.15351295,  0.16257168,\n          0.17158717, -0.40229058,  0.4790236 , -0.06184946,  0.44579494,\n         -0.05247058,  0.04305384,  0.1985467 ,  0.04293313,  0.27775672,\n         -0.00692769,  0.13656384,  0.22595847,  0.00213924, -0.07839436,\n          0.5501037 ,  0.50793594, -0.08028343,  0.06550802, -0.562643  ,\n          0.7624939 , -0.36140528, -0.03992309, -0.24020894, -0.3425506 ,\n         -0.53204614, -0.00984891, -0.03098627, -0.17809121,  0.43929687,\n          0.12893973,  0.3946507 ,  0.62399936,  0.2184282 ,  0.03750585,\n         -0.2710077 ,  0.34644592,  0.20107575, -0.5491927 , -0.03095513,\n          0.25302732, -0.29118717, -0.0438367 , -0.49555722, -0.10713954,\n          0.32417834,  0.49441203, -0.3960277 ,  0.01886923,  0.27407908,\n          0.03813016, -0.53400326,  0.46717873, -0.28732955, -0.10021064,\n          0.03870245, -0.284915  ,  0.0270672 ,  0.48888507,  0.13681854,\n         -0.1187917 ,  0.4077321 ,  0.16341369, -0.06067481, -0.09498367,\n         -0.62668926,  0.13357794,  0.3737507 , -0.18318127, -0.04713573,\n          0.0393015 ,  0.15615325,  0.23423053, -0.3462955 , -0.26581907,\n          0.34447995,  0.2280848 ,  0.4434731 ,  0.03731775, -0.2305022 ,\n         -0.30191234,  0.16195975,  0.14552207, -0.02919097,  0.2830955 ,\n          0.09132115,  0.40610662, -0.2648658 ,  0.00306926,  0.24970002,\n         -0.10134202, -0.13448371, -0.27300525,  0.70071155,  0.14862901,\n          0.27098197,  0.05538091,  0.35337082,  0.35735175,  0.03849501,\n          0.20737411, -0.24211578, -0.17475645,  0.43710765,  0.08197225,\n         -0.19053559,  0.62187403,  0.04605341,  0.04256963, -0.14159709,\n          0.03504295, -0.11607371,  0.447404  ,  0.3639981 ,  0.1388339 ,\n         -0.4348428 , -0.3377913 ,  0.40377143,  0.7492263 , -0.11016089,\n          0.13875304, -0.20898281, -0.05621596,  0.01921425, -0.48174348,\n         -0.5905267 , -0.1313302 , -0.33151758, -0.12867288, -0.03314282,\n          0.02473989,  0.10024798, -0.4090369 ,  0.47799554, -0.0457395 ,\n         -0.22188282, -0.26373318, -0.17148776, -0.5499503 ,  0.33992448],\n        dtype=float32)]]"
     },
     "execution_count": 37,
     "metadata": {},
     "output_type": "execute_result"
    }
   ],
   "source": [
    "tokens = []\n",
    "\n",
    "for x in arr[:10]:\n",
    "  v = sum(map(lambda y: nlp(y).vector, x[2])) / len(x[2])\n",
    "  tokens.append([x[0], v])\n",
    "\n",
    "tokens"
   ],
   "metadata": {
    "collapsed": false,
    "ExecuteTime": {
     "end_time": "2023-11-15T19:29:26.989565Z",
     "start_time": "2023-11-15T19:29:26.847791Z"
    }
   }
  },
  {
   "cell_type": "code",
   "execution_count": 44,
   "outputs": [
    {
     "name": "stdout",
     "output_type": "stream",
     "text": [
      "12765 / 12765\r"
     ]
    }
   ],
   "source": [
    "import numpy as np\n",
    "\n",
    "diag = []\n",
    "for i in range(len(protocol)):\n",
    "  mx_ans = \"\"\n",
    "  mx_val = 0\n",
    "  \n",
    "  emb = nlp(protocol.at[i, \"Жалобы\"]).vector\n",
    "  \n",
    "  for k in range(len(tokens)):\n",
    "    val = np.dot(emb, tokens[k][1])\n",
    "    if val > mx_val:\n",
    "      mx_val = val\n",
    "      mx_ans = tokens[k][0]\n",
    "  \n",
    "  diag.append(mx_ans)\n",
    "  \n",
    "  print(f\"{i + 1} / {len(protocol)}\", end=\"\\r\")"
   ],
   "metadata": {
    "collapsed": false,
    "ExecuteTime": {
     "end_time": "2023-11-15T19:37:57.531100Z",
     "start_time": "2023-11-15T19:35:59.793530Z"
    }
   }
  },
  {
   "cell_type": "code",
   "execution_count": 45,
   "outputs": [],
   "source": [
    "protocol[\"Класс жалобы\"] = diag"
   ],
   "metadata": {
    "collapsed": false,
    "ExecuteTime": {
     "end_time": "2023-11-15T19:38:00.896530Z",
     "start_time": "2023-11-15T19:38:00.893046Z"
    }
   }
  },
  {
   "cell_type": "code",
   "execution_count": null,
   "outputs": [],
   "source": [
    "protocol.to_excel('1.xlsx', sheet_name='group', index=False)"
   ],
   "metadata": {
    "collapsed": false,
    "is_executing": true,
    "ExecuteTime": {
     "start_time": "2023-11-15T19:38:30.784702Z"
    }
   }
  },
  {
   "cell_type": "code",
   "execution_count": 46,
   "outputs": [
    {
     "data": {
      "text/plain": "   MedicalRecordKey        MedicalRecordDate  \\\n0         106627476  2023-09-01 18:39:46.000   \n1         106627477  2023-09-01 18:39:45.000   \n2         106627482  2023-09-01 18:39:53.000   \n3         106627486  2023-09-01 18:39:57.000   \n4         106627490  2023-09-01 18:40:03.000   \n\n                                          PatientKey  Возраст  Пол  \\\n0  0xA52FAC0660E364A3BD2338AD6749D320FF3E08338230...     9764  1.0   \n1  0xC03852BF5FDC992B86A87B1215BC47EBF66C1AB03F6D...    13814  1.0   \n2  0x417FA75C8DAD480F952C6931B305A0218311A4BE61E2...    10311  0.0   \n3  0x922886B7EA4058AC1BA576BEC37C24A4A2E8AB65E912...    22669  1.0   \n4  0xFAB438E0CA9FFC5CFF28E0B33914E95FEE9524108639...    15586  1.0   \n\n      СпециальностьВрача                                             Жалобы  \\\n0  Врач акушер гинеколог             на мажущие  выделения из половых путей   \n1            Врач уролог  на дискомфорт при мочеиспускании на учащенное ...   \n2  Врач дерматовенеролог            На покраснение и шелушение кожи головы.   \n3         Врач кардиолог  Подписано информированное добровольное согласи...   \n4  Врач акушер гинеколог  Жалобы на болезненность и нагрубание правой мо...   \n\n                             ПеренесенныеЗаболевания  \\\n0  Факт получения травм, ожогов, ран, проведения ...   \n1  Факт получения травм, ожогов, ран, проведения ...   \n2                                           ГЭРБ ЖДА   \n3                                        узловой зоб   \n4  Факт получения травм, ожогов, ран, проведения ...   \n\n                                ПеренесенныеОперации  \\\n0                                           Отрицает   \n1   аппендэктомия 2013.  кесарево  сечение -  пре...   \n2                                                  -   \n3  аппендицит в 15-летнем возрасте, удаление кист...   \n4  аппендэктомия  в 5 лет  Импланты молочных желе...   \n\n                                ПринимаемыеПрепараты    Класс жалобы  \n0                            Левотироксин 75 мкг/сут          кашель  \n1                                 монурал, канефрон.  вздутие живота  \n2  Колекальльциферол - 4000 МЕ Калия йодид Мальто...  вздутие живота  \n3  на пенициллиновый ряд - отек квинке, сульфанил...   головную боль  \n4                                        Не отягощен  вздутие живота  ",
      "text/html": "<div>\n<style scoped>\n    .dataframe tbody tr th:only-of-type {\n        vertical-align: middle;\n    }\n\n    .dataframe tbody tr th {\n        vertical-align: top;\n    }\n\n    .dataframe thead th {\n        text-align: right;\n    }\n</style>\n<table border=\"1\" class=\"dataframe\">\n  <thead>\n    <tr style=\"text-align: right;\">\n      <th></th>\n      <th>MedicalRecordKey</th>\n      <th>MedicalRecordDate</th>\n      <th>PatientKey</th>\n      <th>Возраст</th>\n      <th>Пол</th>\n      <th>СпециальностьВрача</th>\n      <th>Жалобы</th>\n      <th>ПеренесенныеЗаболевания</th>\n      <th>ПеренесенныеОперации</th>\n      <th>ПринимаемыеПрепараты</th>\n      <th>Класс жалобы</th>\n    </tr>\n  </thead>\n  <tbody>\n    <tr>\n      <th>0</th>\n      <td>106627476</td>\n      <td>2023-09-01 18:39:46.000</td>\n      <td>0xA52FAC0660E364A3BD2338AD6749D320FF3E08338230...</td>\n      <td>9764</td>\n      <td>1.0</td>\n      <td>Врач акушер гинеколог</td>\n      <td>на мажущие  выделения из половых путей</td>\n      <td>Факт получения травм, ожогов, ран, проведения ...</td>\n      <td>Отрицает</td>\n      <td>Левотироксин 75 мкг/сут</td>\n      <td>кашель</td>\n    </tr>\n    <tr>\n      <th>1</th>\n      <td>106627477</td>\n      <td>2023-09-01 18:39:45.000</td>\n      <td>0xC03852BF5FDC992B86A87B1215BC47EBF66C1AB03F6D...</td>\n      <td>13814</td>\n      <td>1.0</td>\n      <td>Врач уролог</td>\n      <td>на дискомфорт при мочеиспускании на учащенное ...</td>\n      <td>Факт получения травм, ожогов, ран, проведения ...</td>\n      <td>аппендэктомия 2013.  кесарево  сечение -  пре...</td>\n      <td>монурал, канефрон.</td>\n      <td>вздутие живота</td>\n    </tr>\n    <tr>\n      <th>2</th>\n      <td>106627482</td>\n      <td>2023-09-01 18:39:53.000</td>\n      <td>0x417FA75C8DAD480F952C6931B305A0218311A4BE61E2...</td>\n      <td>10311</td>\n      <td>0.0</td>\n      <td>Врач дерматовенеролог</td>\n      <td>На покраснение и шелушение кожи головы.</td>\n      <td>ГЭРБ ЖДА</td>\n      <td>-</td>\n      <td>Колекальльциферол - 4000 МЕ Калия йодид Мальто...</td>\n      <td>вздутие живота</td>\n    </tr>\n    <tr>\n      <th>3</th>\n      <td>106627486</td>\n      <td>2023-09-01 18:39:57.000</td>\n      <td>0x922886B7EA4058AC1BA576BEC37C24A4A2E8AB65E912...</td>\n      <td>22669</td>\n      <td>1.0</td>\n      <td>Врач кардиолог</td>\n      <td>Подписано информированное добровольное согласи...</td>\n      <td>узловой зоб</td>\n      <td>аппендицит в 15-летнем возрасте, удаление кист...</td>\n      <td>на пенициллиновый ряд - отек квинке, сульфанил...</td>\n      <td>головную боль</td>\n    </tr>\n    <tr>\n      <th>4</th>\n      <td>106627490</td>\n      <td>2023-09-01 18:40:03.000</td>\n      <td>0xFAB438E0CA9FFC5CFF28E0B33914E95FEE9524108639...</td>\n      <td>15586</td>\n      <td>1.0</td>\n      <td>Врач акушер гинеколог</td>\n      <td>Жалобы на болезненность и нагрубание правой мо...</td>\n      <td>Факт получения травм, ожогов, ран, проведения ...</td>\n      <td>аппендэктомия  в 5 лет  Импланты молочных желе...</td>\n      <td>Не отягощен</td>\n      <td>вздутие живота</td>\n    </tr>\n  </tbody>\n</table>\n</div>"
     },
     "execution_count": 46,
     "metadata": {},
     "output_type": "execute_result"
    }
   ],
   "source": [
    "protocol.head()"
   ],
   "metadata": {
    "collapsed": false,
    "ExecuteTime": {
     "end_time": "2023-11-15T19:38:02.581437Z",
     "start_time": "2023-11-15T19:38:02.574101Z"
    }
   }
  }
 ]
}
